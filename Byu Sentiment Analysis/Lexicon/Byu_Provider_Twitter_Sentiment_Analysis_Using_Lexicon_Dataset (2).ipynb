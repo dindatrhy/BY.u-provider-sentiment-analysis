{
  "nbformat": 4,
  "nbformat_minor": 0,
  "metadata": {
    "colab": {
      "name": "Byu Provider Twitter Sentiment Analysis Using Lexicon Dataset.ipynb",
      "provenance": [],
      "collapsed_sections": []
    },
    "kernelspec": {
      "name": "python3",
      "display_name": "Python 3"
    },
    "language_info": {
      "name": "python"
    },
    "accelerator": "GPU"
  },
  "cells": [
    {
      "cell_type": "code",
      "execution_count": 2,
      "metadata": {
        "colab": {
          "base_uri": "https://localhost:8080/"
        },
        "id": "ZtRsclXUAImJ",
        "outputId": "0d90bbf6-aaf2-4538-96d3-39180a7ca06f"
      },
      "outputs": [
        {
          "output_type": "stream",
          "name": "stdout",
          "text": [
            "Collecting pysastrawi\n",
            "  Downloading PySastrawi-1.2.0-py2.py3-none-any.whl (210 kB)\n",
            "\u001b[?25l\r\u001b[K     |█▋                              | 10 kB 24.0 MB/s eta 0:00:01\r\u001b[K     |███▏                            | 20 kB 12.9 MB/s eta 0:00:01\r\u001b[K     |████▊                           | 30 kB 9.3 MB/s eta 0:00:01\r\u001b[K     |██████▎                         | 40 kB 8.7 MB/s eta 0:00:01\r\u001b[K     |███████▉                        | 51 kB 4.9 MB/s eta 0:00:01\r\u001b[K     |█████████▍                      | 61 kB 5.2 MB/s eta 0:00:01\r\u001b[K     |███████████                     | 71 kB 5.4 MB/s eta 0:00:01\r\u001b[K     |████████████▌                   | 81 kB 6.0 MB/s eta 0:00:01\r\u001b[K     |██████████████                  | 92 kB 4.7 MB/s eta 0:00:01\r\u001b[K     |███████████████▋                | 102 kB 4.9 MB/s eta 0:00:01\r\u001b[K     |█████████████████▏              | 112 kB 4.9 MB/s eta 0:00:01\r\u001b[K     |██████████████████▊             | 122 kB 4.9 MB/s eta 0:00:01\r\u001b[K     |████████████████████▎           | 133 kB 4.9 MB/s eta 0:00:01\r\u001b[K     |█████████████████████▉          | 143 kB 4.9 MB/s eta 0:00:01\r\u001b[K     |███████████████████████▍        | 153 kB 4.9 MB/s eta 0:00:01\r\u001b[K     |█████████████████████████       | 163 kB 4.9 MB/s eta 0:00:01\r\u001b[K     |██████████████████████████▌     | 174 kB 4.9 MB/s eta 0:00:01\r\u001b[K     |████████████████████████████    | 184 kB 4.9 MB/s eta 0:00:01\r\u001b[K     |█████████████████████████████▋  | 194 kB 4.9 MB/s eta 0:00:01\r\u001b[K     |███████████████████████████████▏| 204 kB 4.9 MB/s eta 0:00:01\r\u001b[K     |████████████████████████████████| 210 kB 4.9 MB/s \n",
            "\u001b[?25hInstalling collected packages: pysastrawi\n",
            "Successfully installed pysastrawi-1.2.0\n"
          ]
        }
      ],
      "source": [
        "! pip install pysastrawi"
      ]
    },
    {
      "cell_type": "code",
      "source": [
        "import pandas as pd\n",
        "from sklearn.feature_extraction.text import CountVectorizer\n",
        "from sklearn.feature_extraction.text import TfidfVectorizer\n",
        "from sklearn.naive_bayes import MultinomialNB\n",
        "from sklearn.model_selection import train_test_split\n",
        "from sklearn.metrics import classification_report\n",
        "from Sastrawi.StopWordRemover.StopWordRemoverFactory import StopWordRemoverFactory"
      ],
      "metadata": {
        "id": "ScYQYctrAJTP"
      },
      "execution_count": 3,
      "outputs": []
    },
    {
      "cell_type": "code",
      "source": [
        "from google.colab import drive\n",
        "drive.mount('/content/drive')"
      ],
      "metadata": {
        "id": "GdXwkLGDALCH",
        "colab": {
          "base_uri": "https://localhost:8080/"
        },
        "outputId": "3216a54a-0c8d-419b-8596-c586220749ce"
      },
      "execution_count": 4,
      "outputs": [
        {
          "output_type": "stream",
          "name": "stdout",
          "text": [
            "Mounted at /content/drive\n"
          ]
        }
      ]
    },
    {
      "cell_type": "code",
      "source": [
        "df = pd.read_csv('/content/drive/MyDrive/data_covid/data/this/byu_sentiment_dataset_clean.csv')\n",
        "df"
      ],
      "metadata": {
        "colab": {
          "base_uri": "https://localhost:8080/",
          "height": 956
        },
        "id": "wTNdFpeyAZXG",
        "outputId": "4a4453fa-6484-4878-d4a7-6f5abd4c3ab8"
      },
      "execution_count": 5,
      "outputs": [
        {
          "output_type": "execute_result",
          "data": {
            "text/html": [
              "\n",
              "  <div id=\"df-47aa3e0c-cf74-4bd0-a949-527e915bd07e\">\n",
              "    <div class=\"colab-df-container\">\n",
              "      <div>\n",
              "<style scoped>\n",
              "    .dataframe tbody tr th:only-of-type {\n",
              "        vertical-align: middle;\n",
              "    }\n",
              "\n",
              "    .dataframe tbody tr th {\n",
              "        vertical-align: top;\n",
              "    }\n",
              "\n",
              "    .dataframe thead th {\n",
              "        text-align: right;\n",
              "    }\n",
              "</style>\n",
              "<table border=\"1\" class=\"dataframe\">\n",
              "  <thead>\n",
              "    <tr style=\"text-align: right;\">\n",
              "      <th></th>\n",
              "      <th>id</th>\n",
              "      <th>created_at</th>\n",
              "      <th>source</th>\n",
              "      <th>original_text</th>\n",
              "      <th>clean_text</th>\n",
              "      <th>lang</th>\n",
              "      <th>favorite_count</th>\n",
              "      <th>retweet_count</th>\n",
              "      <th>original_author</th>\n",
              "      <th>possibly_sensitive</th>\n",
              "      <th>hashtags</th>\n",
              "      <th>user_mentions</th>\n",
              "      <th>place</th>\n",
              "      <th>place_coord_boundaries</th>\n",
              "      <th>word_length</th>\n",
              "      <th>sentiment</th>\n",
              "      <th>sentiment_value</th>\n",
              "    </tr>\n",
              "  </thead>\n",
              "  <tbody>\n",
              "    <tr>\n",
              "      <th>0</th>\n",
              "      <td>1478564382783110000</td>\n",
              "      <td>Wed Jan 05 03:09:53 +0000 2022</td>\n",
              "      <td>&lt;a href=\"http://twitter.com/download/android\" ...</td>\n",
              "      <td>@byu_id apa aku harus nunggu ber-jam² hingga a...</td>\n",
              "      <td>nunggu ber jam hingga aplikasi terbuka</td>\n",
              "      <td>in</td>\n",
              "      <td>0</td>\n",
              "      <td>0</td>\n",
              "      <td>rickjak16</td>\n",
              "      <td>FALSE</td>\n",
              "      <td>NaN</td>\n",
              "      <td>byu_id</td>\n",
              "      <td>Planet Namex</td>\n",
              "      <td>NaN</td>\n",
              "      <td>6</td>\n",
              "      <td>0</td>\n",
              "      <td>netral</td>\n",
              "    </tr>\n",
              "    <tr>\n",
              "      <th>1</th>\n",
              "      <td>1478561754284060000</td>\n",
              "      <td>Wed Jan 05 02:59:27 +0000 2022</td>\n",
              "      <td>&lt;a href=\"http://twitter.com/download/android\" ...</td>\n",
              "      <td>Min @byu_id tolong jawab lah. Jangan di skip.</td>\n",
              "      <td>admin jawab skip</td>\n",
              "      <td>in</td>\n",
              "      <td>0</td>\n",
              "      <td>0</td>\n",
              "      <td>Oghee_1900</td>\n",
              "      <td>NaN</td>\n",
              "      <td>NaN</td>\n",
              "      <td>byu_id</td>\n",
              "      <td>DKI Jakarta, Indonesia</td>\n",
              "      <td>NaN</td>\n",
              "      <td>3</td>\n",
              "      <td>3</td>\n",
              "      <td>positif</td>\n",
              "    </tr>\n",
              "    <tr>\n",
              "      <th>2</th>\n",
              "      <td>1478558087564830000</td>\n",
              "      <td>Wed Jan 05 02:44:53 +0000 2022</td>\n",
              "      <td>&lt;a href=\"http://twitter.com/download/android\" ...</td>\n",
              "      <td>@byu_id min beberapa hari belakangan ini kok s...</td>\n",
              "      <td>admin sinyal tidak stabil hp nokia pluslokasi ...</td>\n",
              "      <td>in</td>\n",
              "      <td>0</td>\n",
              "      <td>0</td>\n",
              "      <td>Andi_Pi14</td>\n",
              "      <td>NaN</td>\n",
              "      <td>NaN</td>\n",
              "      <td>byu_id</td>\n",
              "      <td>Indonesia</td>\n",
              "      <td>NaN</td>\n",
              "      <td>14</td>\n",
              "      <td>-3</td>\n",
              "      <td>negatif</td>\n",
              "    </tr>\n",
              "    <tr>\n",
              "      <th>3</th>\n",
              "      <td>1478556956310650000</td>\n",
              "      <td>Wed Jan 05 02:40:23 +0000 2022</td>\n",
              "      <td>&lt;a href=\"http://twitter.com/download/android\" ...</td>\n",
              "      <td>ada\\n(selalu ada buat teman)\\ngokil\\n(tingkah ...</td>\n",
              "      <td>teman gila tingkah gila kumpul kepomasa sih</td>\n",
              "      <td>in</td>\n",
              "      <td>0</td>\n",
              "      <td>0</td>\n",
              "      <td>AlRob1179</td>\n",
              "      <td>NaN</td>\n",
              "      <td>NaN</td>\n",
              "      <td>byu_id</td>\n",
              "      <td>Medan Timur, Indonesia</td>\n",
              "      <td>NaN</td>\n",
              "      <td>7</td>\n",
              "      <td>1</td>\n",
              "      <td>positif</td>\n",
              "    </tr>\n",
              "    <tr>\n",
              "      <th>4</th>\n",
              "      <td>1478555575197730000</td>\n",
              "      <td>Wed Jan 05 02:34:54 +0000 2022</td>\n",
              "      <td>&lt;a href=\"http://twitter.com/download/android\" ...</td>\n",
              "      <td>@SpeciaIONEe @worksfess @IndosatCare @triindon...</td>\n",
              "      <td>mengadopsi bebas aktif nomor hahaha</td>\n",
              "      <td>in</td>\n",
              "      <td>0</td>\n",
              "      <td>0</td>\n",
              "      <td>bangvalash</td>\n",
              "      <td>NaN</td>\n",
              "      <td>NaN</td>\n",
              "      <td>SpeciaIONEe, worksfess, IndosatCare, triindone...</td>\n",
              "      <td>Mars, PA</td>\n",
              "      <td>NaN</td>\n",
              "      <td>5</td>\n",
              "      <td>-2</td>\n",
              "      <td>negatif</td>\n",
              "    </tr>\n",
              "    <tr>\n",
              "      <th>...</th>\n",
              "      <td>...</td>\n",
              "      <td>...</td>\n",
              "      <td>...</td>\n",
              "      <td>...</td>\n",
              "      <td>...</td>\n",
              "      <td>...</td>\n",
              "      <td>...</td>\n",
              "      <td>...</td>\n",
              "      <td>...</td>\n",
              "      <td>...</td>\n",
              "      <td>...</td>\n",
              "      <td>...</td>\n",
              "      <td>...</td>\n",
              "      <td>...</td>\n",
              "      <td>...</td>\n",
              "      <td>...</td>\n",
              "      <td>...</td>\n",
              "    </tr>\n",
              "    <tr>\n",
              "      <th>2203</th>\n",
              "      <td>1478569346955750000</td>\n",
              "      <td>Wed Jan 05 03:29:37 +0000 2022</td>\n",
              "      <td>&lt;a href=\"http://www.tweetcaster.com\" rel=\"nofo...</td>\n",
              "      <td>@byu_id min minta settingan APN dong</td>\n",
              "      <td>admin settingan apn</td>\n",
              "      <td>in</td>\n",
              "      <td>0</td>\n",
              "      <td>0</td>\n",
              "      <td>ErwinAvrio</td>\n",
              "      <td>NaN</td>\n",
              "      <td>NaN</td>\n",
              "      <td>byu_id</td>\n",
              "      <td>NaN</td>\n",
              "      <td>NaN</td>\n",
              "      <td>3</td>\n",
              "      <td>0</td>\n",
              "      <td>netral</td>\n",
              "    </tr>\n",
              "    <tr>\n",
              "      <th>2204</th>\n",
              "      <td>1476950400674630000</td>\n",
              "      <td>Fri Dec 31 16:16:30 +0000 2021</td>\n",
              "      <td>&lt;a href=\"https://mobile.twitter.com\" rel=\"nofo...</td>\n",
              "      <td>jahat banget kamu nyuruh aku istirahat duluan ...</td>\n",
              "      <td>jahat banget nyuruh istirahat duluan malam</td>\n",
              "      <td>in</td>\n",
              "      <td>0</td>\n",
              "      <td>0</td>\n",
              "      <td>rmd_azhari</td>\n",
              "      <td>NaN</td>\n",
              "      <td>NaN</td>\n",
              "      <td>byu_id</td>\n",
              "      <td>NaN</td>\n",
              "      <td>NaN</td>\n",
              "      <td>6</td>\n",
              "      <td>-7</td>\n",
              "      <td>negatif</td>\n",
              "    </tr>\n",
              "    <tr>\n",
              "      <th>2205</th>\n",
              "      <td>1476421704427570000</td>\n",
              "      <td>Thu Dec 30 05:15:39 +0000 2021</td>\n",
              "      <td>&lt;a href=\"http://twitter.com/download/android\" ...</td>\n",
              "      <td>Selamat tiga bulan bersama kak:) https://t.co/...</td>\n",
              "      <td>selamat kak</td>\n",
              "      <td>in</td>\n",
              "      <td>6</td>\n",
              "      <td>0</td>\n",
              "      <td>byu_id</td>\n",
              "      <td>FALSE</td>\n",
              "      <td>NaN</td>\n",
              "      <td>NaN</td>\n",
              "      <td>Indonesia</td>\n",
              "      <td>NaN</td>\n",
              "      <td>2</td>\n",
              "      <td>5</td>\n",
              "      <td>positif</td>\n",
              "    </tr>\n",
              "    <tr>\n",
              "      <th>2206</th>\n",
              "      <td>1476405690272860000</td>\n",
              "      <td>Thu Dec 30 04:12:01 +0000 2021</td>\n",
              "      <td>&lt;a href=\"http://twitter.com/download/iphone\" r...</td>\n",
              "      <td>LU NIAT BIKIN PROVIDER GAKSI ANJG EMOSI @byu_id</td>\n",
              "      <td>niat bikin provider gaksi anjg emosi</td>\n",
              "      <td>in</td>\n",
              "      <td>0</td>\n",
              "      <td>0</td>\n",
              "      <td>maruk0chann</td>\n",
              "      <td>NaN</td>\n",
              "      <td>NaN</td>\n",
              "      <td>byu_id</td>\n",
              "      <td>┊͙ ˘͈ᵕ˘͈</td>\n",
              "      <td>NaN</td>\n",
              "      <td>6</td>\n",
              "      <td>-2</td>\n",
              "      <td>negatif</td>\n",
              "    </tr>\n",
              "    <tr>\n",
              "      <th>2207</th>\n",
              "      <td>1476396218691760000</td>\n",
              "      <td>Thu Dec 30 03:34:23 +0000 2021</td>\n",
              "      <td>&lt;a href=\"http://twitter.com/download/iphone\" r...</td>\n",
              "      <td>Demi apa sih ada monthiversary giniii?!!! Buse...</td>\n",
              "      <td>sih monthiversary giniii buseh kalah doi</td>\n",
              "      <td>in</td>\n",
              "      <td>0</td>\n",
              "      <td>0</td>\n",
              "      <td>ryutaca15</td>\n",
              "      <td>FALSE</td>\n",
              "      <td>NaN</td>\n",
              "      <td>byu_id</td>\n",
              "      <td>Jakarta Selatan, DKI Jakarta</td>\n",
              "      <td>NaN</td>\n",
              "      <td>6</td>\n",
              "      <td>-7</td>\n",
              "      <td>negatif</td>\n",
              "    </tr>\n",
              "  </tbody>\n",
              "</table>\n",
              "<p>2208 rows × 17 columns</p>\n",
              "</div>\n",
              "      <button class=\"colab-df-convert\" onclick=\"convertToInteractive('df-47aa3e0c-cf74-4bd0-a949-527e915bd07e')\"\n",
              "              title=\"Convert this dataframe to an interactive table.\"\n",
              "              style=\"display:none;\">\n",
              "        \n",
              "  <svg xmlns=\"http://www.w3.org/2000/svg\" height=\"24px\"viewBox=\"0 0 24 24\"\n",
              "       width=\"24px\">\n",
              "    <path d=\"M0 0h24v24H0V0z\" fill=\"none\"/>\n",
              "    <path d=\"M18.56 5.44l.94 2.06.94-2.06 2.06-.94-2.06-.94-.94-2.06-.94 2.06-2.06.94zm-11 1L8.5 8.5l.94-2.06 2.06-.94-2.06-.94L8.5 2.5l-.94 2.06-2.06.94zm10 10l.94 2.06.94-2.06 2.06-.94-2.06-.94-.94-2.06-.94 2.06-2.06.94z\"/><path d=\"M17.41 7.96l-1.37-1.37c-.4-.4-.92-.59-1.43-.59-.52 0-1.04.2-1.43.59L10.3 9.45l-7.72 7.72c-.78.78-.78 2.05 0 2.83L4 21.41c.39.39.9.59 1.41.59.51 0 1.02-.2 1.41-.59l7.78-7.78 2.81-2.81c.8-.78.8-2.07 0-2.86zM5.41 20L4 18.59l7.72-7.72 1.47 1.35L5.41 20z\"/>\n",
              "  </svg>\n",
              "      </button>\n",
              "      \n",
              "  <style>\n",
              "    .colab-df-container {\n",
              "      display:flex;\n",
              "      flex-wrap:wrap;\n",
              "      gap: 12px;\n",
              "    }\n",
              "\n",
              "    .colab-df-convert {\n",
              "      background-color: #E8F0FE;\n",
              "      border: none;\n",
              "      border-radius: 50%;\n",
              "      cursor: pointer;\n",
              "      display: none;\n",
              "      fill: #1967D2;\n",
              "      height: 32px;\n",
              "      padding: 0 0 0 0;\n",
              "      width: 32px;\n",
              "    }\n",
              "\n",
              "    .colab-df-convert:hover {\n",
              "      background-color: #E2EBFA;\n",
              "      box-shadow: 0px 1px 2px rgba(60, 64, 67, 0.3), 0px 1px 3px 1px rgba(60, 64, 67, 0.15);\n",
              "      fill: #174EA6;\n",
              "    }\n",
              "\n",
              "    [theme=dark] .colab-df-convert {\n",
              "      background-color: #3B4455;\n",
              "      fill: #D2E3FC;\n",
              "    }\n",
              "\n",
              "    [theme=dark] .colab-df-convert:hover {\n",
              "      background-color: #434B5C;\n",
              "      box-shadow: 0px 1px 3px 1px rgba(0, 0, 0, 0.15);\n",
              "      filter: drop-shadow(0px 1px 2px rgba(0, 0, 0, 0.3));\n",
              "      fill: #FFFFFF;\n",
              "    }\n",
              "  </style>\n",
              "\n",
              "      <script>\n",
              "        const buttonEl =\n",
              "          document.querySelector('#df-47aa3e0c-cf74-4bd0-a949-527e915bd07e button.colab-df-convert');\n",
              "        buttonEl.style.display =\n",
              "          google.colab.kernel.accessAllowed ? 'block' : 'none';\n",
              "\n",
              "        async function convertToInteractive(key) {\n",
              "          const element = document.querySelector('#df-47aa3e0c-cf74-4bd0-a949-527e915bd07e');\n",
              "          const dataTable =\n",
              "            await google.colab.kernel.invokeFunction('convertToInteractive',\n",
              "                                                     [key], {});\n",
              "          if (!dataTable) return;\n",
              "\n",
              "          const docLinkHtml = 'Like what you see? Visit the ' +\n",
              "            '<a target=\"_blank\" href=https://colab.research.google.com/notebooks/data_table.ipynb>data table notebook</a>'\n",
              "            + ' to learn more about interactive tables.';\n",
              "          element.innerHTML = '';\n",
              "          dataTable['output_type'] = 'display_data';\n",
              "          await google.colab.output.renderOutput(dataTable, element);\n",
              "          const docLink = document.createElement('div');\n",
              "          docLink.innerHTML = docLinkHtml;\n",
              "          element.appendChild(docLink);\n",
              "        }\n",
              "      </script>\n",
              "    </div>\n",
              "  </div>\n",
              "  "
            ],
            "text/plain": [
              "                       id  ... sentiment_value\n",
              "0     1478564382783110000  ...          netral\n",
              "1     1478561754284060000  ...         positif\n",
              "2     1478558087564830000  ...         negatif\n",
              "3     1478556956310650000  ...         positif\n",
              "4     1478555575197730000  ...         negatif\n",
              "...                   ...  ...             ...\n",
              "2203  1478569346955750000  ...          netral\n",
              "2204  1476950400674630000  ...         negatif\n",
              "2205  1476421704427570000  ...         positif\n",
              "2206  1476405690272860000  ...         negatif\n",
              "2207  1476396218691760000  ...         negatif\n",
              "\n",
              "[2208 rows x 17 columns]"
            ]
          },
          "metadata": {},
          "execution_count": 5
        }
      ]
    },
    {
      "cell_type": "markdown",
      "source": [
        "# Using Naive Bayes"
      ],
      "metadata": {
        "id": "A-JKbrjYGXym"
      }
    },
    {
      "cell_type": "code",
      "source": [
        "df.head()"
      ],
      "metadata": {
        "colab": {
          "base_uri": "https://localhost:8080/",
          "height": 565
        },
        "id": "7HTlpUHQHidu",
        "outputId": "3023593a-76bf-4b31-cb1e-f51fd9b2f5d3"
      },
      "execution_count": 6,
      "outputs": [
        {
          "output_type": "execute_result",
          "data": {
            "text/html": [
              "\n",
              "  <div id=\"df-6e86e8a4-4245-4efc-bd40-2c0b1524ba11\">\n",
              "    <div class=\"colab-df-container\">\n",
              "      <div>\n",
              "<style scoped>\n",
              "    .dataframe tbody tr th:only-of-type {\n",
              "        vertical-align: middle;\n",
              "    }\n",
              "\n",
              "    .dataframe tbody tr th {\n",
              "        vertical-align: top;\n",
              "    }\n",
              "\n",
              "    .dataframe thead th {\n",
              "        text-align: right;\n",
              "    }\n",
              "</style>\n",
              "<table border=\"1\" class=\"dataframe\">\n",
              "  <thead>\n",
              "    <tr style=\"text-align: right;\">\n",
              "      <th></th>\n",
              "      <th>id</th>\n",
              "      <th>created_at</th>\n",
              "      <th>source</th>\n",
              "      <th>original_text</th>\n",
              "      <th>clean_text</th>\n",
              "      <th>lang</th>\n",
              "      <th>favorite_count</th>\n",
              "      <th>retweet_count</th>\n",
              "      <th>original_author</th>\n",
              "      <th>possibly_sensitive</th>\n",
              "      <th>hashtags</th>\n",
              "      <th>user_mentions</th>\n",
              "      <th>place</th>\n",
              "      <th>place_coord_boundaries</th>\n",
              "      <th>word_length</th>\n",
              "      <th>sentiment</th>\n",
              "      <th>sentiment_value</th>\n",
              "    </tr>\n",
              "  </thead>\n",
              "  <tbody>\n",
              "    <tr>\n",
              "      <th>0</th>\n",
              "      <td>1478564382783110000</td>\n",
              "      <td>Wed Jan 05 03:09:53 +0000 2022</td>\n",
              "      <td>&lt;a href=\"http://twitter.com/download/android\" ...</td>\n",
              "      <td>@byu_id apa aku harus nunggu ber-jam² hingga a...</td>\n",
              "      <td>nunggu ber jam hingga aplikasi terbuka</td>\n",
              "      <td>in</td>\n",
              "      <td>0</td>\n",
              "      <td>0</td>\n",
              "      <td>rickjak16</td>\n",
              "      <td>FALSE</td>\n",
              "      <td>NaN</td>\n",
              "      <td>byu_id</td>\n",
              "      <td>Planet Namex</td>\n",
              "      <td>NaN</td>\n",
              "      <td>6</td>\n",
              "      <td>0</td>\n",
              "      <td>netral</td>\n",
              "    </tr>\n",
              "    <tr>\n",
              "      <th>1</th>\n",
              "      <td>1478561754284060000</td>\n",
              "      <td>Wed Jan 05 02:59:27 +0000 2022</td>\n",
              "      <td>&lt;a href=\"http://twitter.com/download/android\" ...</td>\n",
              "      <td>Min @byu_id tolong jawab lah. Jangan di skip.</td>\n",
              "      <td>admin jawab skip</td>\n",
              "      <td>in</td>\n",
              "      <td>0</td>\n",
              "      <td>0</td>\n",
              "      <td>Oghee_1900</td>\n",
              "      <td>NaN</td>\n",
              "      <td>NaN</td>\n",
              "      <td>byu_id</td>\n",
              "      <td>DKI Jakarta, Indonesia</td>\n",
              "      <td>NaN</td>\n",
              "      <td>3</td>\n",
              "      <td>3</td>\n",
              "      <td>positif</td>\n",
              "    </tr>\n",
              "    <tr>\n",
              "      <th>2</th>\n",
              "      <td>1478558087564830000</td>\n",
              "      <td>Wed Jan 05 02:44:53 +0000 2022</td>\n",
              "      <td>&lt;a href=\"http://twitter.com/download/android\" ...</td>\n",
              "      <td>@byu_id min beberapa hari belakangan ini kok s...</td>\n",
              "      <td>admin sinyal tidak stabil hp nokia pluslokasi ...</td>\n",
              "      <td>in</td>\n",
              "      <td>0</td>\n",
              "      <td>0</td>\n",
              "      <td>Andi_Pi14</td>\n",
              "      <td>NaN</td>\n",
              "      <td>NaN</td>\n",
              "      <td>byu_id</td>\n",
              "      <td>Indonesia</td>\n",
              "      <td>NaN</td>\n",
              "      <td>14</td>\n",
              "      <td>-3</td>\n",
              "      <td>negatif</td>\n",
              "    </tr>\n",
              "    <tr>\n",
              "      <th>3</th>\n",
              "      <td>1478556956310650000</td>\n",
              "      <td>Wed Jan 05 02:40:23 +0000 2022</td>\n",
              "      <td>&lt;a href=\"http://twitter.com/download/android\" ...</td>\n",
              "      <td>ada\\n(selalu ada buat teman)\\ngokil\\n(tingkah ...</td>\n",
              "      <td>teman gila tingkah gila kumpul kepomasa sih</td>\n",
              "      <td>in</td>\n",
              "      <td>0</td>\n",
              "      <td>0</td>\n",
              "      <td>AlRob1179</td>\n",
              "      <td>NaN</td>\n",
              "      <td>NaN</td>\n",
              "      <td>byu_id</td>\n",
              "      <td>Medan Timur, Indonesia</td>\n",
              "      <td>NaN</td>\n",
              "      <td>7</td>\n",
              "      <td>1</td>\n",
              "      <td>positif</td>\n",
              "    </tr>\n",
              "    <tr>\n",
              "      <th>4</th>\n",
              "      <td>1478555575197730000</td>\n",
              "      <td>Wed Jan 05 02:34:54 +0000 2022</td>\n",
              "      <td>&lt;a href=\"http://twitter.com/download/android\" ...</td>\n",
              "      <td>@SpeciaIONEe @worksfess @IndosatCare @triindon...</td>\n",
              "      <td>mengadopsi bebas aktif nomor hahaha</td>\n",
              "      <td>in</td>\n",
              "      <td>0</td>\n",
              "      <td>0</td>\n",
              "      <td>bangvalash</td>\n",
              "      <td>NaN</td>\n",
              "      <td>NaN</td>\n",
              "      <td>SpeciaIONEe, worksfess, IndosatCare, triindone...</td>\n",
              "      <td>Mars, PA</td>\n",
              "      <td>NaN</td>\n",
              "      <td>5</td>\n",
              "      <td>-2</td>\n",
              "      <td>negatif</td>\n",
              "    </tr>\n",
              "  </tbody>\n",
              "</table>\n",
              "</div>\n",
              "      <button class=\"colab-df-convert\" onclick=\"convertToInteractive('df-6e86e8a4-4245-4efc-bd40-2c0b1524ba11')\"\n",
              "              title=\"Convert this dataframe to an interactive table.\"\n",
              "              style=\"display:none;\">\n",
              "        \n",
              "  <svg xmlns=\"http://www.w3.org/2000/svg\" height=\"24px\"viewBox=\"0 0 24 24\"\n",
              "       width=\"24px\">\n",
              "    <path d=\"M0 0h24v24H0V0z\" fill=\"none\"/>\n",
              "    <path d=\"M18.56 5.44l.94 2.06.94-2.06 2.06-.94-2.06-.94-.94-2.06-.94 2.06-2.06.94zm-11 1L8.5 8.5l.94-2.06 2.06-.94-2.06-.94L8.5 2.5l-.94 2.06-2.06.94zm10 10l.94 2.06.94-2.06 2.06-.94-2.06-.94-.94-2.06-.94 2.06-2.06.94z\"/><path d=\"M17.41 7.96l-1.37-1.37c-.4-.4-.92-.59-1.43-.59-.52 0-1.04.2-1.43.59L10.3 9.45l-7.72 7.72c-.78.78-.78 2.05 0 2.83L4 21.41c.39.39.9.59 1.41.59.51 0 1.02-.2 1.41-.59l7.78-7.78 2.81-2.81c.8-.78.8-2.07 0-2.86zM5.41 20L4 18.59l7.72-7.72 1.47 1.35L5.41 20z\"/>\n",
              "  </svg>\n",
              "      </button>\n",
              "      \n",
              "  <style>\n",
              "    .colab-df-container {\n",
              "      display:flex;\n",
              "      flex-wrap:wrap;\n",
              "      gap: 12px;\n",
              "    }\n",
              "\n",
              "    .colab-df-convert {\n",
              "      background-color: #E8F0FE;\n",
              "      border: none;\n",
              "      border-radius: 50%;\n",
              "      cursor: pointer;\n",
              "      display: none;\n",
              "      fill: #1967D2;\n",
              "      height: 32px;\n",
              "      padding: 0 0 0 0;\n",
              "      width: 32px;\n",
              "    }\n",
              "\n",
              "    .colab-df-convert:hover {\n",
              "      background-color: #E2EBFA;\n",
              "      box-shadow: 0px 1px 2px rgba(60, 64, 67, 0.3), 0px 1px 3px 1px rgba(60, 64, 67, 0.15);\n",
              "      fill: #174EA6;\n",
              "    }\n",
              "\n",
              "    [theme=dark] .colab-df-convert {\n",
              "      background-color: #3B4455;\n",
              "      fill: #D2E3FC;\n",
              "    }\n",
              "\n",
              "    [theme=dark] .colab-df-convert:hover {\n",
              "      background-color: #434B5C;\n",
              "      box-shadow: 0px 1px 3px 1px rgba(0, 0, 0, 0.15);\n",
              "      filter: drop-shadow(0px 1px 2px rgba(0, 0, 0, 0.3));\n",
              "      fill: #FFFFFF;\n",
              "    }\n",
              "  </style>\n",
              "\n",
              "      <script>\n",
              "        const buttonEl =\n",
              "          document.querySelector('#df-6e86e8a4-4245-4efc-bd40-2c0b1524ba11 button.colab-df-convert');\n",
              "        buttonEl.style.display =\n",
              "          google.colab.kernel.accessAllowed ? 'block' : 'none';\n",
              "\n",
              "        async function convertToInteractive(key) {\n",
              "          const element = document.querySelector('#df-6e86e8a4-4245-4efc-bd40-2c0b1524ba11');\n",
              "          const dataTable =\n",
              "            await google.colab.kernel.invokeFunction('convertToInteractive',\n",
              "                                                     [key], {});\n",
              "          if (!dataTable) return;\n",
              "\n",
              "          const docLinkHtml = 'Like what you see? Visit the ' +\n",
              "            '<a target=\"_blank\" href=https://colab.research.google.com/notebooks/data_table.ipynb>data table notebook</a>'\n",
              "            + ' to learn more about interactive tables.';\n",
              "          element.innerHTML = '';\n",
              "          dataTable['output_type'] = 'display_data';\n",
              "          await google.colab.output.renderOutput(dataTable, element);\n",
              "          const docLink = document.createElement('div');\n",
              "          docLink.innerHTML = docLinkHtml;\n",
              "          element.appendChild(docLink);\n",
              "        }\n",
              "      </script>\n",
              "    </div>\n",
              "  </div>\n",
              "  "
            ],
            "text/plain": [
              "                    id  ... sentiment_value\n",
              "0  1478564382783110000  ...          netral\n",
              "1  1478561754284060000  ...         positif\n",
              "2  1478558087564830000  ...         negatif\n",
              "3  1478556956310650000  ...         positif\n",
              "4  1478555575197730000  ...         negatif\n",
              "\n",
              "[5 rows x 17 columns]"
            ]
          },
          "metadata": {},
          "execution_count": 6
        }
      ]
    },
    {
      "cell_type": "code",
      "source": [
        "df.sentiment_value.value_counts()"
      ],
      "metadata": {
        "colab": {
          "base_uri": "https://localhost:8080/"
        },
        "id": "wE9o5I3sDuOH",
        "outputId": "6d375a41-4f42-46ed-da35-cc570713850a"
      },
      "execution_count": 7,
      "outputs": [
        {
          "output_type": "execute_result",
          "data": {
            "text/plain": [
              "positif    1173\n",
              "negatif     671\n",
              "netral      364\n",
              "Name: sentiment_value, dtype: int64"
            ]
          },
          "metadata": {},
          "execution_count": 7
        }
      ]
    },
    {
      "cell_type": "code",
      "source": [
        "# split data\n",
        "X_train, X_test, y_train, y_test = train_test_split(df.clean_text, df.sentiment_value, test_size=0.2, stratify=df.sentiment_value)"
      ],
      "metadata": {
        "id": "PzvKq6D4FvKp"
      },
      "execution_count": 8,
      "outputs": []
    },
    {
      "cell_type": "markdown",
      "source": [
        "## Using TfidfVectorizer"
      ],
      "metadata": {
        "id": "5Slr1U48Dp0i"
      }
    },
    {
      "cell_type": "code",
      "source": [
        "stp = StopWordRemoverFactory().get_stop_words()\n",
        "vect = TfidfVectorizer()"
      ],
      "metadata": {
        "id": "nnoFmAHxF0Hl"
      },
      "execution_count": 9,
      "outputs": []
    },
    {
      "cell_type": "code",
      "source": [
        "X_train_vec = vect.fit_transform(X_train)\n",
        "X_test_vec = vect.transform(X_test)"
      ],
      "metadata": {
        "id": "s4aD1WViGIUs"
      },
      "execution_count": 10,
      "outputs": []
    },
    {
      "cell_type": "code",
      "source": [
        "#SMOTE\n",
        "\n",
        "#SMOTE METHOD\n",
        "from imblearn.over_sampling import SMOTE\n",
        "from collections import Counter\n",
        "\n",
        "counter = Counter(df.sentiment_value)\n",
        "print('Before :', counter)\n",
        "\n",
        "#Oversampling of the dataset using SMOTE\n",
        "smt = SMOTE()\n",
        "X_smote, y_smote = smt.fit_resample(X_train_vec, y_train)\n",
        "\n",
        "counter = Counter(y_smote)\n",
        "print('After :', counter)"
      ],
      "metadata": {
        "colab": {
          "base_uri": "https://localhost:8080/"
        },
        "id": "aQuAE-ByXvQl",
        "outputId": "31df248e-ef65-4c69-d23e-3ffcd6c800fc"
      },
      "execution_count": 11,
      "outputs": [
        {
          "output_type": "stream",
          "name": "stdout",
          "text": [
            "Before : Counter({'positif': 1173, 'negatif': 671, 'netral': 364})\n",
            "After : Counter({'positif': 938, 'netral': 938, 'negatif': 938})\n"
          ]
        }
      ]
    },
    {
      "cell_type": "code",
      "source": [
        "# training naive bayes\n",
        "nb = MultinomialNB()\n",
        "nb.fit(X_smote, y_smote)\n",
        "\n",
        "#Random forest\n",
        "from sklearn.ensemble import RandomForestClassifier\n",
        "rf = RandomForestClassifier()\n",
        "rf.fit(X_smote, y_smote)\n",
        "\n",
        "#SVC \n",
        "from sklearn.svm import SVC\n",
        "svc = SVC()\n",
        "svc.fit(X_smote, y_smote)"
      ],
      "metadata": {
        "colab": {
          "base_uri": "https://localhost:8080/"
        },
        "id": "XLj9Ed5SGKrI",
        "outputId": "fd469769-277d-48e4-82ed-0dbadbc79e18"
      },
      "execution_count": 12,
      "outputs": [
        {
          "output_type": "execute_result",
          "data": {
            "text/plain": [
              "SVC()"
            ]
          },
          "metadata": {},
          "execution_count": 12
        }
      ]
    },
    {
      "cell_type": "code",
      "source": [
        "# evaluasi\n",
        "y_pred_nb = nb.predict(X_test_vec)\n",
        "print(classification_report(y_test, y_pred_nb))\n",
        "\n",
        "y_pred_rf = rf.predict(X_test_vec)\n",
        "print(classification_report(y_test, y_pred_rf))\n",
        "\n",
        "y_pred_svc = svc.predict(X_test_vec)\n",
        "print(classification_report(y_test, y_pred_svc))"
      ],
      "metadata": {
        "colab": {
          "base_uri": "https://localhost:8080/"
        },
        "id": "DNbHB5uEGNQA",
        "outputId": "3559d459-ba80-46b1-edc0-e5167253a806"
      },
      "execution_count": 13,
      "outputs": [
        {
          "output_type": "stream",
          "name": "stdout",
          "text": [
            "              precision    recall  f1-score   support\n",
            "\n",
            "     negatif       0.56      0.66      0.60       134\n",
            "      netral       0.58      0.38      0.46        73\n",
            "     positif       0.79      0.80      0.79       235\n",
            "\n",
            "    accuracy                           0.69       442\n",
            "   macro avg       0.64      0.61      0.62       442\n",
            "weighted avg       0.69      0.69      0.68       442\n",
            "\n",
            "              precision    recall  f1-score   support\n",
            "\n",
            "     negatif       0.74      0.60      0.66       134\n",
            "      netral       0.64      0.78      0.70        73\n",
            "     positif       0.79      0.82      0.80       235\n",
            "\n",
            "    accuracy                           0.75       442\n",
            "   macro avg       0.72      0.73      0.72       442\n",
            "weighted avg       0.75      0.75      0.74       442\n",
            "\n",
            "              precision    recall  f1-score   support\n",
            "\n",
            "     negatif       0.81      0.48      0.60       134\n",
            "      netral       0.89      0.53      0.67        73\n",
            "     positif       0.70      0.94      0.80       235\n",
            "\n",
            "    accuracy                           0.74       442\n",
            "   macro avg       0.80      0.65      0.69       442\n",
            "weighted avg       0.76      0.74      0.72       442\n",
            "\n"
          ]
        }
      ]
    },
    {
      "cell_type": "markdown",
      "source": [
        "## Using CountVectorizer"
      ],
      "metadata": {
        "id": "_EDgtGEAD7_C"
      }
    },
    {
      "cell_type": "code",
      "source": [
        "stp = StopWordRemoverFactory().get_stop_words()\n",
        "vect_count = CountVectorizer()"
      ],
      "metadata": {
        "id": "uJVHUU3TD00j"
      },
      "execution_count": 14,
      "outputs": []
    },
    {
      "cell_type": "code",
      "source": [
        "X_train_vec_count = vect_count.fit_transform(X_train)\n",
        "X_test_vec_count = vect_count.transform(X_test)"
      ],
      "metadata": {
        "id": "gGzJMHRMEDN4"
      },
      "execution_count": 15,
      "outputs": []
    },
    {
      "cell_type": "code",
      "source": [
        "#SMOTE\n",
        "\n",
        "#SMOTE METHOD\n",
        "from imblearn.over_sampling import SMOTE\n",
        "from collections import Counter\n",
        "\n",
        "counter = Counter(df.sentiment_value)\n",
        "print('Before :', counter)\n",
        "\n",
        "#Oversampling of the dataset using SMOTE\n",
        "smt = SMOTE()\n",
        "X_smote_count, y_smote_count = smt.fit_resample(X_train_vec_count, y_train)\n",
        "\n",
        "counter = Counter(y_smote_count)\n",
        "print('After :', counter)"
      ],
      "metadata": {
        "colab": {
          "base_uri": "https://localhost:8080/"
        },
        "id": "vJ6TZEaSZlfR",
        "outputId": "2762f3b1-a755-43ca-f483-0eb749d0b842"
      },
      "execution_count": 16,
      "outputs": [
        {
          "output_type": "stream",
          "name": "stdout",
          "text": [
            "Before : Counter({'positif': 1173, 'negatif': 671, 'netral': 364})\n",
            "After : Counter({'positif': 938, 'netral': 938, 'negatif': 938})\n"
          ]
        }
      ]
    },
    {
      "cell_type": "code",
      "source": [
        "# training naive bayes\n",
        "nb = MultinomialNB()\n",
        "nb.fit(X_smote_count, y_smote_count)\n",
        "\n",
        "#Random forest\n",
        "from sklearn.ensemble import RandomForestClassifier\n",
        "rf = RandomForestClassifier()\n",
        "rf.fit(X_smote_count, y_smote_count)\n",
        "\n",
        "#SVC \n",
        "from sklearn.svm import SVC\n",
        "svc = SVC()\n",
        "svc.fit(X_smote_count, y_smote_count)"
      ],
      "metadata": {
        "colab": {
          "base_uri": "https://localhost:8080/"
        },
        "id": "yRYx0Ww6ESyy",
        "outputId": "a3bc9d2f-8f96-4654-da88-2659884b8f22"
      },
      "execution_count": 17,
      "outputs": [
        {
          "output_type": "execute_result",
          "data": {
            "text/plain": [
              "SVC()"
            ]
          },
          "metadata": {},
          "execution_count": 17
        }
      ]
    },
    {
      "cell_type": "code",
      "source": [
        "# evaluasi\n",
        "y_pred_nb = nb.predict(X_test_vec)\n",
        "print(classification_report(y_test, y_pred_nb))\n",
        "\n",
        "y_pred_rf = rf.predict(X_test_vec)\n",
        "print(classification_report(y_test, y_pred_rf))\n",
        "\n",
        "y_pred_svc = svc.predict(X_test_vec)\n",
        "print(classification_report(y_test, y_pred_svc))"
      ],
      "metadata": {
        "colab": {
          "base_uri": "https://localhost:8080/"
        },
        "id": "Q4_ez7OMZ97i",
        "outputId": "58a48a1e-5ab4-46cf-e6eb-f77f88d59f47"
      },
      "execution_count": 18,
      "outputs": [
        {
          "output_type": "stream",
          "name": "stdout",
          "text": [
            "              precision    recall  f1-score   support\n",
            "\n",
            "     negatif       0.54      0.62      0.57       134\n",
            "      netral       0.57      0.33      0.42        73\n",
            "     positif       0.77      0.80      0.78       235\n",
            "\n",
            "    accuracy                           0.67       442\n",
            "   macro avg       0.62      0.58      0.59       442\n",
            "weighted avg       0.66      0.67      0.66       442\n",
            "\n",
            "              precision    recall  f1-score   support\n",
            "\n",
            "     negatif       0.66      0.31      0.42       134\n",
            "      netral       0.20      0.95      0.33        73\n",
            "     positif       0.84      0.14      0.23       235\n",
            "\n",
            "    accuracy                           0.32       442\n",
            "   macro avg       0.57      0.46      0.33       442\n",
            "weighted avg       0.68      0.32      0.31       442\n",
            "\n",
            "              precision    recall  f1-score   support\n",
            "\n",
            "     negatif       0.60      0.43      0.50       134\n",
            "      netral       0.21      0.96      0.35        73\n",
            "     positif       0.90      0.08      0.14       235\n",
            "\n",
            "    accuracy                           0.33       442\n",
            "   macro avg       0.57      0.49      0.33       442\n",
            "weighted avg       0.70      0.33      0.29       442\n",
            "\n"
          ]
        }
      ]
    },
    {
      "cell_type": "markdown",
      "source": [
        "# Using Deep Learning"
      ],
      "metadata": {
        "id": "dKyg5RgRGcii"
      }
    },
    {
      "cell_type": "code",
      "source": [
        "import pandas as pd\n",
        "from sklearn.model_selection import train_test_split"
      ],
      "metadata": {
        "id": "BFhnImj9GO2h"
      },
      "execution_count": 19,
      "outputs": []
    },
    {
      "cell_type": "code",
      "source": [
        "df.sentiment_value = df.sentiment_value.map({\"netral\" : 0, \"positif\": 1, \"negatif\":2})"
      ],
      "metadata": {
        "id": "p_2MLXEwHP-1"
      },
      "execution_count": 20,
      "outputs": []
    },
    {
      "cell_type": "code",
      "source": [
        "df.sentiment_value.value_counts()"
      ],
      "metadata": {
        "colab": {
          "base_uri": "https://localhost:8080/"
        },
        "id": "xZ9pcH7CKr35",
        "outputId": "40b839da-12b3-47ad-a6bb-4eed19cd6547"
      },
      "execution_count": 21,
      "outputs": [
        {
          "output_type": "execute_result",
          "data": {
            "text/plain": [
              "1    1173\n",
              "2     671\n",
              "0     364\n",
              "Name: sentiment_value, dtype: int64"
            ]
          },
          "metadata": {},
          "execution_count": 21
        }
      ]
    },
    {
      "cell_type": "code",
      "source": [
        "train_df, test_df = train_test_split(df, test_size=0.2)"
      ],
      "metadata": {
        "id": "IBeuY9A9GhMZ"
      },
      "execution_count": 22,
      "outputs": []
    },
    {
      "cell_type": "code",
      "source": [
        "import random\n",
        "random_index = random.randint(0, len(train_df) - 5)\n",
        "for row in train_df[[\"clean_text\", \"sentiment_value\"]][random_index:random_index + 5].itertuples():\n",
        "  _, text, target = row\n",
        "  if target == 0:\n",
        "    print(f\"Target: {target} (NETRAL)\")\n",
        "  elif target == 1:\n",
        "    print(f\"Target: {target} (POSITIF)\")\n",
        "  elif target == 2:\n",
        "    print(f\"Target: {target} (NEGATIF)\")\n",
        "  print(f\"Teks: {text}\\n\")\n",
        "  print(\"---\\n\")"
      ],
      "metadata": {
        "colab": {
          "base_uri": "https://localhost:8080/"
        },
        "id": "8ZwKOa1YHBqg",
        "outputId": "55a6d113-aafd-4f6d-aa83-d0869aab1f62"
      },
      "execution_count": 23,
      "outputs": [
        {
          "output_type": "stream",
          "name": "stdout",
          "text": [
            "Target: 1 (POSITIF)\n",
            "Teks: gajelas pemeliharaan \n",
            "\n",
            "---\n",
            "\n",
            "Target: 1 (POSITIF)\n",
            "Teks: allah email tanggapan \n",
            "\n",
            "---\n",
            "\n",
            "Target: 1 (POSITIF)\n",
            "Teks: admin baca pesan difollowup bbrp jam laluu diproses \n",
            "\n",
            "---\n",
            "\n",
            "Target: 1 (POSITIF)\n",
            "Teks: ganti gadgetnya \n",
            "\n",
            "---\n",
            "\n",
            "Target: 1 (POSITIF)\n",
            "Teks: prenn buka pesan cepatt hm \n",
            "\n",
            "---\n",
            "\n"
          ]
        }
      ]
    },
    {
      "cell_type": "code",
      "source": [
        "# get ready for target\n",
        "from tensorflow.keras.utils import to_categorical\n",
        "\n",
        "X_train, y_train = train_df.clean_text, train_df.sentiment_value\n",
        "X_test, y_test = test_df.clean_text, test_df.sentiment_value\n",
        "\n",
        "def prepare_target(y_train, y_test):\n",
        "  y_train_enc = to_categorical(y_train)\n",
        "  y_test_enc = to_categorical(y_test)\n",
        "  return y_train_enc, y_test_enc\n",
        "\n",
        "y_train, y_test = prepare_target(y_train, y_test)"
      ],
      "metadata": {
        "id": "H9SapP59GtX8"
      },
      "execution_count": 24,
      "outputs": []
    },
    {
      "cell_type": "code",
      "source": [
        "# split train-val\n",
        "train_sent, val_sent, train_labels, val_labels = train_test_split(X_train.to_numpy(),\n",
        "                                                                   y_train,\n",
        "                                                                   test_size=0.2)"
      ],
      "metadata": {
        "id": "1RTfNc7RISN4"
      },
      "execution_count": 25,
      "outputs": []
    },
    {
      "cell_type": "code",
      "source": [
        "train_sent[:10], train_labels[:10]"
      ],
      "metadata": {
        "colab": {
          "base_uri": "https://localhost:8080/"
        },
        "id": "JjMvl74NISjC",
        "outputId": "959b79c7-13e6-41d8-94a9-97349d087b62"
      },
      "execution_count": 26,
      "outputs": [
        {
          "output_type": "execute_result",
          "data": {
            "text/plain": [
              "(array(['tydak ramah bintang pdahal beli paket ',\n",
              "        'admin beli paket internet aplikasinya dibukaaa ', 'makassar kak ',\n",
              "        'cust care tidak call disuruh via media social tidak direspon ',\n",
              "        'isi paket internet pembayaran via shopee pay shopeenya berhasil tidak masuk paket internet nya total masuk gigabita durasi perlu banget admin ',\n",
              "        'aplikasinya tidak bisa dibuka gajelas anjing ', 'parah aslii ',\n",
              "        'sa kak ',\n",
              "        'admin jaringan nya lambat tidak bisa buka app nya cek paket internet ',\n",
              "        'bukan surabaya om perbedaan live on xl persis telkomsel anak muda kualitas jaringannya dimuda in '],\n",
              "       dtype=object), array([[0., 1., 0.],\n",
              "        [0., 1., 0.],\n",
              "        [1., 0., 0.],\n",
              "        [1., 0., 0.],\n",
              "        [0., 1., 0.],\n",
              "        [0., 0., 1.],\n",
              "        [0., 0., 1.],\n",
              "        [1., 0., 0.],\n",
              "        [0., 1., 0.],\n",
              "        [0., 1., 0.]], dtype=float32))"
            ]
          },
          "metadata": {},
          "execution_count": 26
        }
      ]
    },
    {
      "cell_type": "markdown",
      "source": [
        "# Tokenization"
      ],
      "metadata": {
        "id": "DK-rIqRqIYNK"
      }
    },
    {
      "cell_type": "code",
      "source": [
        "import tensorflow as tf\n",
        "from tensorflow.keras.layers.experimental.preprocessing import TextVectorization"
      ],
      "metadata": {
        "id": "LK3KMA8KIUPU"
      },
      "execution_count": 27,
      "outputs": []
    },
    {
      "cell_type": "code",
      "source": [
        "round(sum([len(i.split()) for i in train_sent])/len(train_sent))"
      ],
      "metadata": {
        "colab": {
          "base_uri": "https://localhost:8080/"
        },
        "id": "Ga2u7VHyIZpP",
        "outputId": "1df5ee0a-732b-46a3-db54-1bf4c6c9df12"
      },
      "execution_count": 28,
      "outputs": [
        {
          "output_type": "execute_result",
          "data": {
            "text/plain": [
              "7"
            ]
          },
          "metadata": {},
          "execution_count": 28
        }
      ]
    },
    {
      "cell_type": "code",
      "source": [
        "# setup text vect\n",
        "max_vocab_length = 4000\n",
        "max_length = 15\n",
        "\n",
        "text_vectorization = TextVectorization(max_tokens=max_vocab_length,\n",
        "                                       standardize=\"lower_and_strip_punctuation\",\n",
        "                                       split=\"whitespace\",\n",
        "                                       ngrams=None,\n",
        "                                       output_mode='int',\n",
        "                                       output_sequence_length=max_length)"
      ],
      "metadata": {
        "id": "F3dXgpgxIbDC"
      },
      "execution_count": 29,
      "outputs": []
    },
    {
      "cell_type": "code",
      "source": [
        "# vektorisasi teks\n",
        "text_vectorization.adapt(train_sent)"
      ],
      "metadata": {
        "id": "F2ZuE1gWIcrE"
      },
      "execution_count": 30,
      "outputs": []
    },
    {
      "cell_type": "code",
      "source": [
        "# tweet baru\n",
        "sample_tweet = \"duh kenapa deh koneksi byu lemot banget\"\n",
        "text_vectorization([sample_tweet])"
      ],
      "metadata": {
        "colab": {
          "base_uri": "https://localhost:8080/"
        },
        "id": "k5t911LNIfBx",
        "outputId": "e9dced7c-aad1-4ecb-f762-41587da37743"
      },
      "execution_count": 31,
      "outputs": [
        {
          "output_type": "execute_result",
          "data": {
            "text/plain": [
              "<tf.Tensor: shape=(1, 15), dtype=int64, numpy=\n",
              "array([[  1,   1,  81, 119,   1,   1,  13,   0,   0,   0,   0,   0,   0,\n",
              "          0,   0]])>"
            ]
          },
          "metadata": {},
          "execution_count": 31
        }
      ]
    },
    {
      "cell_type": "markdown",
      "source": [
        "# Embedding"
      ],
      "metadata": {
        "id": "2cFT8F86ItAJ"
      }
    },
    {
      "cell_type": "code",
      "source": [
        "from tensorflow.keras import layers\n",
        "\n",
        "embedding = layers.Embedding(input_dim=max_vocab_length,\n",
        "                             output_dim=128,\n",
        "                             embeddings_initializer=\"uniform\",\n",
        "                             input_length=max_length)\n",
        "\n",
        "embedding"
      ],
      "metadata": {
        "colab": {
          "base_uri": "https://localhost:8080/"
        },
        "id": "BmkQ9hSOIoEc",
        "outputId": "e350ec22-6341-401c-9352-657bbe4f64eb"
      },
      "execution_count": 32,
      "outputs": [
        {
          "output_type": "execute_result",
          "data": {
            "text/plain": [
              "<keras.layers.embeddings.Embedding at 0x7f29e58081d0>"
            ]
          },
          "metadata": {},
          "execution_count": 32
        }
      ]
    },
    {
      "cell_type": "code",
      "source": [
        "random_tweet = random.choice(train_sent)\n",
        "print(f\"Teks Asli : {random_tweet}\\n\")\n",
        "\n",
        "sample_embedded = embedding(text_vectorization([random_tweet]))\n",
        "sample_embedded.shape"
      ],
      "metadata": {
        "colab": {
          "base_uri": "https://localhost:8080/"
        },
        "id": "7X9cwu_jIukE",
        "outputId": "8782a186-b8e1-4f8e-c85c-ee19e11735b3"
      },
      "execution_count": 33,
      "outputs": [
        {
          "output_type": "stream",
          "name": "stdout",
          "text": [
            "Teks Asli : terima kasih kadonya \n",
            "\n"
          ]
        },
        {
          "output_type": "execute_result",
          "data": {
            "text/plain": [
              "TensorShape([1, 15, 128])"
            ]
          },
          "metadata": {},
          "execution_count": 33
        }
      ]
    },
    {
      "cell_type": "markdown",
      "source": [
        "# Modeling"
      ],
      "metadata": {
        "id": "U5bM8GgmI1xz"
      }
    },
    {
      "cell_type": "code",
      "source": [
        "# fc NN\n",
        "\n",
        "inputs = layers.Input(shape=(1,), dtype=\"string\")\n",
        "x = text_vectorization(inputs)\n",
        "x = embedding(x)\n",
        "x = layers.GlobalAveragePooling1D()(x)\n",
        "outputs = layers.Dense(3, activation='softmax')(x)\n",
        "model_1 = tf.keras.Model(inputs, outputs, name='model_nlp_fc')"
      ],
      "metadata": {
        "id": "JYj5VAkLIxD1"
      },
      "execution_count": 34,
      "outputs": []
    },
    {
      "cell_type": "code",
      "source": [
        "# compile model\n",
        "model_1.compile(loss='categorical_crossentropy',\n",
        "                optimizer=tf.keras.optimizers.Adam(),\n",
        "                metrics=[\"accuracy\"])"
      ],
      "metadata": {
        "id": "HpsopQ7dI4xM"
      },
      "execution_count": 35,
      "outputs": []
    },
    {
      "cell_type": "code",
      "source": [
        "model_1.summary()"
      ],
      "metadata": {
        "colab": {
          "base_uri": "https://localhost:8080/"
        },
        "id": "UTqKriD7I7R8",
        "outputId": "0ccb7e1b-c214-4a2a-ae4d-5f8a362ccc75"
      },
      "execution_count": 36,
      "outputs": [
        {
          "output_type": "stream",
          "name": "stdout",
          "text": [
            "Model: \"model_nlp_fc\"\n",
            "_________________________________________________________________\n",
            " Layer (type)                Output Shape              Param #   \n",
            "=================================================================\n",
            " input_1 (InputLayer)        [(None, 1)]               0         \n",
            "                                                                 \n",
            " text_vectorization (TextVec  (None, 15)               0         \n",
            " torization)                                                     \n",
            "                                                                 \n",
            " embedding (Embedding)       (None, 15, 128)           512000    \n",
            "                                                                 \n",
            " global_average_pooling1d (G  (None, 128)              0         \n",
            " lobalAveragePooling1D)                                          \n",
            "                                                                 \n",
            " dense (Dense)               (None, 3)                 387       \n",
            "                                                                 \n",
            "=================================================================\n",
            "Total params: 512,387\n",
            "Trainable params: 512,387\n",
            "Non-trainable params: 0\n",
            "_________________________________________________________________\n"
          ]
        }
      ]
    },
    {
      "cell_type": "code",
      "source": [
        "val_sent.shape"
      ],
      "metadata": {
        "colab": {
          "base_uri": "https://localhost:8080/"
        },
        "id": "8aVCXWA8Jw9T",
        "outputId": "40c79fbd-7043-484f-e6b1-945708c85d64"
      },
      "execution_count": 37,
      "outputs": [
        {
          "output_type": "execute_result",
          "data": {
            "text/plain": [
              "(354,)"
            ]
          },
          "metadata": {},
          "execution_count": 37
        }
      ]
    },
    {
      "cell_type": "code",
      "source": [
        "val_labels"
      ],
      "metadata": {
        "colab": {
          "base_uri": "https://localhost:8080/"
        },
        "id": "2MpoLmBMKCCO",
        "outputId": "f2833761-4954-4fab-9ac4-838f89011f12"
      },
      "execution_count": 38,
      "outputs": [
        {
          "output_type": "execute_result",
          "data": {
            "text/plain": [
              "array([[0., 0., 1.],\n",
              "       [0., 1., 0.],\n",
              "       [0., 1., 0.],\n",
              "       ...,\n",
              "       [1., 0., 0.],\n",
              "       [0., 1., 0.],\n",
              "       [0., 0., 1.]], dtype=float32)"
            ]
          },
          "metadata": {},
          "execution_count": 38
        }
      ]
    },
    {
      "cell_type": "code",
      "source": [
        "model_1_hist = model_1.fit(train_sent,\n",
        "                           train_labels,\n",
        "                           epochs=25,\n",
        "                           validation_data=(val_sent, val_labels))"
      ],
      "metadata": {
        "colab": {
          "base_uri": "https://localhost:8080/"
        },
        "id": "p5O15h3VI8yX",
        "outputId": "5fb02146-cbbd-4dd9-f884-01e7cef1536d"
      },
      "execution_count": 39,
      "outputs": [
        {
          "output_type": "stream",
          "name": "stdout",
          "text": [
            "Epoch 1/25\n",
            "45/45 [==============================] - 1s 13ms/step - loss: 1.0485 - accuracy: 0.5276 - val_loss: 1.0205 - val_accuracy: 0.5311\n",
            "Epoch 2/25\n",
            "45/45 [==============================] - 0s 8ms/step - loss: 0.9761 - accuracy: 0.5347 - val_loss: 0.9677 - val_accuracy: 0.5311\n",
            "Epoch 3/25\n",
            "45/45 [==============================] - 0s 8ms/step - loss: 0.9054 - accuracy: 0.5390 - val_loss: 0.9101 - val_accuracy: 0.5508\n",
            "Epoch 4/25\n",
            "45/45 [==============================] - 0s 8ms/step - loss: 0.8321 - accuracy: 0.6310 - val_loss: 0.8605 - val_accuracy: 0.6215\n",
            "Epoch 5/25\n",
            "45/45 [==============================] - 0s 9ms/step - loss: 0.7601 - accuracy: 0.6686 - val_loss: 0.8232 - val_accuracy: 0.6384\n",
            "Epoch 6/25\n",
            "45/45 [==============================] - 0s 10ms/step - loss: 0.6881 - accuracy: 0.7698 - val_loss: 0.7903 - val_accuracy: 0.6667\n",
            "Epoch 7/25\n",
            "45/45 [==============================] - 0s 10ms/step - loss: 0.6213 - accuracy: 0.8159 - val_loss: 0.7645 - val_accuracy: 0.6780\n",
            "Epoch 8/25\n",
            "45/45 [==============================] - 0s 9ms/step - loss: 0.5609 - accuracy: 0.8626 - val_loss: 0.7416 - val_accuracy: 0.7147\n",
            "Epoch 9/25\n",
            "45/45 [==============================] - 0s 9ms/step - loss: 0.5078 - accuracy: 0.8839 - val_loss: 0.7231 - val_accuracy: 0.7288\n",
            "Epoch 10/25\n",
            "45/45 [==============================] - 0s 9ms/step - loss: 0.4598 - accuracy: 0.9037 - val_loss: 0.7101 - val_accuracy: 0.7260\n",
            "Epoch 11/25\n",
            "45/45 [==============================] - 0s 9ms/step - loss: 0.4175 - accuracy: 0.9200 - val_loss: 0.7002 - val_accuracy: 0.7373\n",
            "Epoch 12/25\n",
            "45/45 [==============================] - 0s 8ms/step - loss: 0.3807 - accuracy: 0.9271 - val_loss: 0.6900 - val_accuracy: 0.7486\n",
            "Epoch 13/25\n",
            "45/45 [==============================] - 0s 9ms/step - loss: 0.3498 - accuracy: 0.9341 - val_loss: 0.6840 - val_accuracy: 0.7486\n",
            "Epoch 14/25\n",
            "45/45 [==============================] - 0s 9ms/step - loss: 0.3207 - accuracy: 0.9419 - val_loss: 0.6813 - val_accuracy: 0.7401\n",
            "Epoch 15/25\n",
            "45/45 [==============================] - 0s 9ms/step - loss: 0.2962 - accuracy: 0.9476 - val_loss: 0.6781 - val_accuracy: 0.7514\n",
            "Epoch 16/25\n",
            "45/45 [==============================] - 0s 9ms/step - loss: 0.2739 - accuracy: 0.9504 - val_loss: 0.6777 - val_accuracy: 0.7542\n",
            "Epoch 17/25\n",
            "45/45 [==============================] - 0s 9ms/step - loss: 0.2542 - accuracy: 0.9561 - val_loss: 0.6749 - val_accuracy: 0.7458\n",
            "Epoch 18/25\n",
            "45/45 [==============================] - 0s 8ms/step - loss: 0.2374 - accuracy: 0.9568 - val_loss: 0.6774 - val_accuracy: 0.7486\n",
            "Epoch 19/25\n",
            "45/45 [==============================] - 0s 8ms/step - loss: 0.2202 - accuracy: 0.9603 - val_loss: 0.6767 - val_accuracy: 0.7514\n",
            "Epoch 20/25\n",
            "45/45 [==============================] - 0s 9ms/step - loss: 0.2066 - accuracy: 0.9667 - val_loss: 0.6778 - val_accuracy: 0.7486\n",
            "Epoch 21/25\n",
            "45/45 [==============================] - 0s 9ms/step - loss: 0.1941 - accuracy: 0.9681 - val_loss: 0.6842 - val_accuracy: 0.7345\n",
            "Epoch 22/25\n",
            "45/45 [==============================] - 0s 9ms/step - loss: 0.1820 - accuracy: 0.9695 - val_loss: 0.6858 - val_accuracy: 0.7429\n",
            "Epoch 23/25\n",
            "45/45 [==============================] - 0s 9ms/step - loss: 0.1716 - accuracy: 0.9703 - val_loss: 0.6892 - val_accuracy: 0.7486\n",
            "Epoch 24/25\n",
            "45/45 [==============================] - 0s 9ms/step - loss: 0.1610 - accuracy: 0.9717 - val_loss: 0.6911 - val_accuracy: 0.7571\n",
            "Epoch 25/25\n",
            "45/45 [==============================] - 0s 9ms/step - loss: 0.1523 - accuracy: 0.9710 - val_loss: 0.6984 - val_accuracy: 0.7542\n"
          ]
        }
      ]
    },
    {
      "cell_type": "code",
      "source": [
        "model_1.evaluate(val_sent, val_labels)"
      ],
      "metadata": {
        "colab": {
          "base_uri": "https://localhost:8080/"
        },
        "id": "M3OaCmKxLPvX",
        "outputId": "84525940-a561-498d-e332-8761b8557fad"
      },
      "execution_count": 40,
      "outputs": [
        {
          "output_type": "stream",
          "name": "stdout",
          "text": [
            "12/12 [==============================] - 0s 2ms/step - loss: 0.6984 - accuracy: 0.7542\n"
          ]
        },
        {
          "output_type": "execute_result",
          "data": {
            "text/plain": [
              "[0.6984235048294067, 0.7542372941970825]"
            ]
          },
          "metadata": {},
          "execution_count": 40
        }
      ]
    },
    {
      "cell_type": "code",
      "source": [
        "# Create plot of history model\n",
        "import matplotlib.pyplot as plt\n",
        "\n",
        "\n",
        "pd.DataFrame(model_1_hist.history).plot(figsize=(8, 5))\n",
        "plt.title('Evaluate model base', fontsize=13)\n",
        "plt.gca().set_ylim(0, 1)\n",
        "plt.show()"
      ],
      "metadata": {
        "colab": {
          "base_uri": "https://localhost:8080/",
          "height": 336
        },
        "id": "lccouTnIJqXK",
        "outputId": "04b80f2b-1862-461f-bee4-b1f09cd69958"
      },
      "execution_count": 41,
      "outputs": [
        {
          "output_type": "display_data",
          "data": {
            "image/png": "[encoded data removed]",
            "text/plain": [
              "<Figure size 576x360 with 1 Axes>"
            ]
          },
          "metadata": {
            "needs_background": "light"
          }
        }
      ]
    },
    {
      "cell_type": "markdown",
      "source": [
        "# LSTM"
      ],
      "metadata": {
        "id": "xTSdykGJLZDe"
      }
    },
    {
      "cell_type": "code",
      "source": [
        "inputs = layers.Input(shape=(1,), dtype='string')\n",
        "x = text_vectorization(inputs)\n",
        "x = embedding(x)\n",
        "x = layers.LSTM(64)(x)\n",
        "outputs = layers.Dense(3, activation='softmax')(x)\n",
        "model_2 = tf.keras.Model(inputs, outputs, name=\"LSTM_model\")"
      ],
      "metadata": {
        "id": "U6q14sR2I_-c"
      },
      "execution_count": 42,
      "outputs": []
    },
    {
      "cell_type": "code",
      "source": [
        "model_2.summary()"
      ],
      "metadata": {
        "colab": {
          "base_uri": "https://localhost:8080/"
        },
        "id": "XGfVySYOLclm",
        "outputId": "3584c2cc-8385-4839-a274-58a9c592033e"
      },
      "execution_count": 43,
      "outputs": [
        {
          "output_type": "stream",
          "name": "stdout",
          "text": [
            "Model: \"LSTM_model\"\n",
            "_________________________________________________________________\n",
            " Layer (type)                Output Shape              Param #   \n",
            "=================================================================\n",
            " input_2 (InputLayer)        [(None, 1)]               0         \n",
            "                                                                 \n",
            " text_vectorization (TextVec  (None, 15)               0         \n",
            " torization)                                                     \n",
            "                                                                 \n",
            " embedding (Embedding)       (None, 15, 128)           512000    \n",
            "                                                                 \n",
            " lstm (LSTM)                 (None, 64)                49408     \n",
            "                                                                 \n",
            " dense_1 (Dense)             (None, 3)                 195       \n",
            "                                                                 \n",
            "=================================================================\n",
            "Total params: 561,603\n",
            "Trainable params: 561,603\n",
            "Non-trainable params: 0\n",
            "_________________________________________________________________\n"
          ]
        }
      ]
    },
    {
      "cell_type": "code",
      "source": [
        "# compile model\n",
        "model_2.compile(loss='categorical_crossentropy',\n",
        "                optimizer=tf.keras.optimizers.Adam(),\n",
        "                metrics=[\"accuracy\"])"
      ],
      "metadata": {
        "id": "GHaTgDxMLezf"
      },
      "execution_count": 44,
      "outputs": []
    },
    {
      "cell_type": "code",
      "source": [
        "model_2_hist = model_2.fit(train_sent,\n",
        "                           train_labels,\n",
        "                           epochs=15,\n",
        "                           validation_data=(val_sent, val_labels))"
      ],
      "metadata": {
        "colab": {
          "base_uri": "https://localhost:8080/"
        },
        "id": "ysC2_5T6Lh0r",
        "outputId": "6133e90e-956b-488f-c92a-dfd9c34c0a7a"
      },
      "execution_count": 45,
      "outputs": [
        {
          "output_type": "stream",
          "name": "stdout",
          "text": [
            "Epoch 1/15\n",
            "45/45 [==============================] - 4s 34ms/step - loss: 0.5199 - accuracy: 0.8010 - val_loss: 0.7899 - val_accuracy: 0.7542\n",
            "Epoch 2/15\n",
            "45/45 [==============================] - 1s 21ms/step - loss: 0.1062 - accuracy: 0.9731 - val_loss: 0.9460 - val_accuracy: 0.7458\n",
            "Epoch 3/15\n",
            "45/45 [==============================] - 1s 21ms/step - loss: 0.0803 - accuracy: 0.9780 - val_loss: 0.9542 - val_accuracy: 0.7373\n",
            "Epoch 4/15\n",
            "45/45 [==============================] - 1s 21ms/step - loss: 0.0623 - accuracy: 0.9851 - val_loss: 0.9647 - val_accuracy: 0.7260\n",
            "Epoch 5/15\n",
            "45/45 [==============================] - 1s 20ms/step - loss: 0.0521 - accuracy: 0.9873 - val_loss: 1.0886 - val_accuracy: 0.7373\n",
            "Epoch 6/15\n",
            "45/45 [==============================] - 1s 20ms/step - loss: 0.0436 - accuracy: 0.9894 - val_loss: 1.1028 - val_accuracy: 0.7401\n",
            "Epoch 7/15\n",
            "45/45 [==============================] - 1s 21ms/step - loss: 0.0338 - accuracy: 0.9915 - val_loss: 1.2303 - val_accuracy: 0.7288\n",
            "Epoch 8/15\n",
            "45/45 [==============================] - 1s 20ms/step - loss: 0.0450 - accuracy: 0.9858 - val_loss: 1.1230 - val_accuracy: 0.7316\n",
            "Epoch 9/15\n",
            "45/45 [==============================] - 1s 20ms/step - loss: 0.0311 - accuracy: 0.9915 - val_loss: 1.1867 - val_accuracy: 0.7288\n",
            "Epoch 10/15\n",
            "45/45 [==============================] - 1s 21ms/step - loss: 0.0276 - accuracy: 0.9922 - val_loss: 1.2074 - val_accuracy: 0.7203\n",
            "Epoch 11/15\n",
            "45/45 [==============================] - 1s 21ms/step - loss: 0.0225 - accuracy: 0.9936 - val_loss: 1.4077 - val_accuracy: 0.7232\n",
            "Epoch 12/15\n",
            "45/45 [==============================] - 1s 21ms/step - loss: 0.0221 - accuracy: 0.9936 - val_loss: 1.2774 - val_accuracy: 0.7373\n",
            "Epoch 13/15\n",
            "45/45 [==============================] - 1s 21ms/step - loss: 0.0215 - accuracy: 0.9922 - val_loss: 1.4037 - val_accuracy: 0.7288\n",
            "Epoch 14/15\n",
            "45/45 [==============================] - 1s 20ms/step - loss: 0.0241 - accuracy: 0.9936 - val_loss: 1.4720 - val_accuracy: 0.7175\n",
            "Epoch 15/15\n",
            "45/45 [==============================] - 1s 20ms/step - loss: 0.0594 - accuracy: 0.9873 - val_loss: 1.1922 - val_accuracy: 0.7260\n"
          ]
        }
      ]
    },
    {
      "cell_type": "code",
      "source": [
        "# Create plot of history model\n",
        "import matplotlib.pyplot as plt\n",
        "\n",
        "\n",
        "pd.DataFrame(model_2_hist.history).plot(figsize=(8, 5))\n",
        "plt.title('Evaluate model LSTM', fontsize=13)\n",
        "plt.gca().set_ylim(0, 1)\n",
        "plt.show()"
      ],
      "metadata": {
        "colab": {
          "base_uri": "https://localhost:8080/",
          "height": 336
        },
        "id": "-50_17DCKIXn",
        "outputId": "1d0ccb84-9eb2-4d8c-9bb6-01aa74f1f46e"
      },
      "execution_count": 46,
      "outputs": [
        {
          "output_type": "display_data",
          "data": {
            "image/png": "[encoded data removed]",
            "text/plain": [
              "<Figure size 576x360 with 1 Axes>"
            ]
          },
          "metadata": {
            "needs_background": "light"
          }
        }
      ]
    },
    {
      "cell_type": "markdown",
      "source": [
        "# GRU"
      ],
      "metadata": {
        "id": "BgDYvlhmLsHn"
      }
    },
    {
      "cell_type": "code",
      "source": [
        "inputs = layers.Input(shape=(1,), dtype='string')\n",
        "x = text_vectorization(inputs)\n",
        "x = embedding(x)\n",
        "x = layers.GRU(64)(x)\n",
        "outputs = layers.Dense(3, activation='softmax')(x)\n",
        "model_3 = tf.keras.Model(inputs, outputs, name=\"GRU_model\")"
      ],
      "metadata": {
        "id": "h1cOO_RlLjue"
      },
      "execution_count": 47,
      "outputs": []
    },
    {
      "cell_type": "code",
      "source": [
        "# compile model\n",
        "model_3.compile(loss='categorical_crossentropy',\n",
        "                optimizer=tf.keras.optimizers.Adam(),\n",
        "                metrics=[\"accuracy\"])"
      ],
      "metadata": {
        "id": "g33Xiv7-Lu5E"
      },
      "execution_count": 48,
      "outputs": []
    },
    {
      "cell_type": "code",
      "source": [
        "model_3.summary()"
      ],
      "metadata": {
        "colab": {
          "base_uri": "https://localhost:8080/"
        },
        "id": "eyWl5jg_LwiH",
        "outputId": "ada8e4fd-b295-476e-931f-3dccc1d4f1c2"
      },
      "execution_count": 49,
      "outputs": [
        {
          "output_type": "stream",
          "name": "stdout",
          "text": [
            "Model: \"GRU_model\"\n",
            "_________________________________________________________________\n",
            " Layer (type)                Output Shape              Param #   \n",
            "=================================================================\n",
            " input_3 (InputLayer)        [(None, 1)]               0         \n",
            "                                                                 \n",
            " text_vectorization (TextVec  (None, 15)               0         \n",
            " torization)                                                     \n",
            "                                                                 \n",
            " embedding (Embedding)       (None, 15, 128)           512000    \n",
            "                                                                 \n",
            " gru (GRU)                   (None, 64)                37248     \n",
            "                                                                 \n",
            " dense_2 (Dense)             (None, 3)                 195       \n",
            "                                                                 \n",
            "=================================================================\n",
            "Total params: 549,443\n",
            "Trainable params: 549,443\n",
            "Non-trainable params: 0\n",
            "_________________________________________________________________\n"
          ]
        }
      ]
    },
    {
      "cell_type": "code",
      "source": [
        "model_3_hist = model_3.fit(train_sent,\n",
        "                           train_labels,\n",
        "                           epochs=15,\n",
        "                           validation_data=(val_sent, val_labels))"
      ],
      "metadata": {
        "colab": {
          "base_uri": "https://localhost:8080/"
        },
        "id": "LAKStVhnLyvY",
        "outputId": "183e686a-d0e9-4286-91c2-1e79709ce412"
      },
      "execution_count": 50,
      "outputs": [
        {
          "output_type": "stream",
          "name": "stdout",
          "text": [
            "Epoch 1/15\n",
            "45/45 [==============================] - 4s 33ms/step - loss: 0.7762 - accuracy: 0.6310 - val_loss: 1.1065 - val_accuracy: 0.6215\n",
            "Epoch 2/15\n",
            "45/45 [==============================] - 1s 20ms/step - loss: 0.2709 - accuracy: 0.8725 - val_loss: 1.0262 - val_accuracy: 0.7373\n",
            "Epoch 3/15\n",
            "45/45 [==============================] - 1s 20ms/step - loss: 0.0802 - accuracy: 0.9766 - val_loss: 1.1365 - val_accuracy: 0.7373\n",
            "Epoch 4/15\n",
            "45/45 [==============================] - 1s 20ms/step - loss: 0.0414 - accuracy: 0.9887 - val_loss: 1.1936 - val_accuracy: 0.7373\n",
            "Epoch 5/15\n",
            "45/45 [==============================] - 1s 21ms/step - loss: 0.0326 - accuracy: 0.9901 - val_loss: 1.2151 - val_accuracy: 0.7373\n",
            "Epoch 6/15\n",
            "45/45 [==============================] - 1s 21ms/step - loss: 0.0241 - accuracy: 0.9936 - val_loss: 1.3987 - val_accuracy: 0.7514\n",
            "Epoch 7/15\n",
            "45/45 [==============================] - 1s 21ms/step - loss: 0.0274 - accuracy: 0.9929 - val_loss: 1.3244 - val_accuracy: 0.7571\n",
            "Epoch 8/15\n",
            "45/45 [==============================] - 1s 21ms/step - loss: 0.0213 - accuracy: 0.9950 - val_loss: 1.3287 - val_accuracy: 0.7429\n",
            "Epoch 9/15\n",
            "45/45 [==============================] - 1s 21ms/step - loss: 0.0184 - accuracy: 0.9958 - val_loss: 1.2827 - val_accuracy: 0.7458\n",
            "Epoch 10/15\n",
            "45/45 [==============================] - 1s 21ms/step - loss: 0.0224 - accuracy: 0.9943 - val_loss: 1.3330 - val_accuracy: 0.7458\n",
            "Epoch 11/15\n",
            "45/45 [==============================] - 1s 21ms/step - loss: 0.0225 - accuracy: 0.9943 - val_loss: 1.3146 - val_accuracy: 0.7429\n",
            "Epoch 12/15\n",
            "45/45 [==============================] - 1s 20ms/step - loss: 0.0400 - accuracy: 0.9894 - val_loss: 1.4201 - val_accuracy: 0.7288\n",
            "Epoch 13/15\n",
            "45/45 [==============================] - 1s 20ms/step - loss: 0.0258 - accuracy: 0.9929 - val_loss: 1.2262 - val_accuracy: 0.7571\n",
            "Epoch 14/15\n",
            "45/45 [==============================] - 1s 20ms/step - loss: 0.0223 - accuracy: 0.9929 - val_loss: 1.3856 - val_accuracy: 0.7345\n",
            "Epoch 15/15\n",
            "45/45 [==============================] - 1s 21ms/step - loss: 0.0231 - accuracy: 0.9929 - val_loss: 1.3042 - val_accuracy: 0.7373\n"
          ]
        }
      ]
    },
    {
      "cell_type": "code",
      "source": [
        "# Create plot of history model\n",
        "import matplotlib.pyplot as plt\n",
        "\n",
        "\n",
        "pd.DataFrame(model_3_hist.history).plot(figsize=(8, 5))\n",
        "plt.title('Evaluate model GRU', fontsize=13)\n",
        "plt.gca().set_ylim(0, 1)\n",
        "plt.show()"
      ],
      "metadata": {
        "colab": {
          "base_uri": "https://localhost:8080/",
          "height": 336
        },
        "id": "74ToaLcRK3Ty",
        "outputId": "e6f00b5b-0add-44c6-d3b7-0f1b64b47518"
      },
      "execution_count": 51,
      "outputs": [
        {
          "output_type": "display_data",
          "data": {
            "image/png": "[encoded data removed]",
            "text/plain": [
              "<Figure size 576x360 with 1 Axes>"
            ]
          },
          "metadata": {
            "needs_background": "light"
          }
        }
      ]
    },
    {
      "cell_type": "code",
      "source": [
        "# inference new data\n",
        "\n",
        "tweet_baru = [\n",
        "            \"anjirr lemot banget\",\n",
        "            \"kenapa maintenance nya harus malem tahun baru sih, kesel deh\",\n",
        "            \"wahh terima kasih byu udah dikasih kado kuota, jadi suka deh\",\n",
        "            \"mohon maaf byu ini kenapa ya\",\n",
        "            \"mohon dibenarkan aplikasinya, saya komplain gak dibalas di dm\",\n",
        "            \"lemot banget, niat bikin provider gaksi\"\n",
        "]\n",
        "\n",
        "hasil = model_3.predict(tweet_baru)\n",
        "hasil.argmax(axis=1)"
      ],
      "metadata": {
        "colab": {
          "base_uri": "https://localhost:8080/"
        },
        "id": "cD1nR_AnL0_k",
        "outputId": "025523f4-57f7-4919-912e-826e80af98f9"
      },
      "execution_count": 52,
      "outputs": [
        {
          "output_type": "execute_result",
          "data": {
            "text/plain": [
              "array([2, 2, 1, 1, 0, 2])"
            ]
          },
          "metadata": {},
          "execution_count": 52
        }
      ]
    }
  ]
}