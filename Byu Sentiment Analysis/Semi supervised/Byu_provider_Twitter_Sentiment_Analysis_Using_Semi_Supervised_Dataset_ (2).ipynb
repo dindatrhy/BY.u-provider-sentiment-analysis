{
  "nbformat": 4,
  "nbformat_minor": 0,
  "metadata": {
    "colab": {
      "name": "Byu provider Twitter Sentiment Analysis Using Semi Supervised Dataset .ipynb",
      "provenance": [],
      "collapsed_sections": []
    },
    "kernelspec": {
      "name": "python3",
      "display_name": "Python 3"
    },
    "language_info": {
      "name": "python"
    },
    "accelerator": "GPU"
  },
  "cells": [
    {
      "cell_type": "code",
      "execution_count": 1,
      "metadata": {
        "colab": {
          "base_uri": "https://localhost:8080/"
        },
        "id": "ZtRsclXUAImJ",
        "outputId": "08830dbf-6c48-4410-c497-836586a2e9b9"
      },
      "outputs": [
        {
          "output_type": "stream",
          "name": "stdout",
          "text": [
            "Collecting pysastrawi\n",
            "  Downloading PySastrawi-1.2.0-py2.py3-none-any.whl (210 kB)\n",
            "\u001b[?25l\r\u001b[K     |█▋                              | 10 kB 23.8 MB/s eta 0:00:01\r\u001b[K     |███▏                            | 20 kB 28.2 MB/s eta 0:00:01\r\u001b[K     |████▊                           | 30 kB 34.0 MB/s eta 0:00:01\r\u001b[K     |██████▎                         | 40 kB 36.9 MB/s eta 0:00:01\r\u001b[K     |███████▉                        | 51 kB 30.0 MB/s eta 0:00:01\r\u001b[K     |█████████▍                      | 61 kB 32.7 MB/s eta 0:00:01\r\u001b[K     |███████████                     | 71 kB 25.4 MB/s eta 0:00:01\r\u001b[K     |████████████▌                   | 81 kB 26.2 MB/s eta 0:00:01\r\u001b[K     |██████████████                  | 92 kB 28.1 MB/s eta 0:00:01\r\u001b[K     |███████████████▋                | 102 kB 29.3 MB/s eta 0:00:01\r\u001b[K     |█████████████████▏              | 112 kB 29.3 MB/s eta 0:00:01\r\u001b[K     |██████████████████▊             | 122 kB 29.3 MB/s eta 0:00:01\r\u001b[K     |████████████████████▎           | 133 kB 29.3 MB/s eta 0:00:01\r\u001b[K     |█████████████████████▉          | 143 kB 29.3 MB/s eta 0:00:01\r\u001b[K     |███████████████████████▍        | 153 kB 29.3 MB/s eta 0:00:01\r\u001b[K     |█████████████████████████       | 163 kB 29.3 MB/s eta 0:00:01\r\u001b[K     |██████████████████████████▌     | 174 kB 29.3 MB/s eta 0:00:01\r\u001b[K     |████████████████████████████    | 184 kB 29.3 MB/s eta 0:00:01\r\u001b[K     |█████████████████████████████▋  | 194 kB 29.3 MB/s eta 0:00:01\r\u001b[K     |███████████████████████████████▏| 204 kB 29.3 MB/s eta 0:00:01\r\u001b[K     |████████████████████████████████| 210 kB 29.3 MB/s \n",
            "\u001b[?25hInstalling collected packages: pysastrawi\n",
            "Successfully installed pysastrawi-1.2.0\n"
          ]
        }
      ],
      "source": [
        "! pip install pysastrawi"
      ]
    },
    {
      "cell_type": "code",
      "source": [
        "import pandas as pd\n",
        "from sklearn.feature_extraction.text import CountVectorizer\n",
        "from sklearn.feature_extraction.text import TfidfVectorizer\n",
        "from sklearn.naive_bayes import MultinomialNB\n",
        "from sklearn.model_selection import train_test_split\n",
        "from sklearn.metrics import classification_report\n",
        "from Sastrawi.StopWordRemover.StopWordRemoverFactory import StopWordRemoverFactory"
      ],
      "metadata": {
        "id": "ScYQYctrAJTP"
      },
      "execution_count": 2,
      "outputs": []
    },
    {
      "cell_type": "code",
      "source": [
        "from google.colab import drive\n",
        "drive.mount('/content/drive')"
      ],
      "metadata": {
        "id": "GdXwkLGDALCH",
        "colab": {
          "base_uri": "https://localhost:8080/"
        },
        "outputId": "8df5a7ee-05b0-4368-9f46-999388f61f9c"
      },
      "execution_count": 3,
      "outputs": [
        {
          "output_type": "stream",
          "name": "stdout",
          "text": [
            "Mounted at /content/drive\n"
          ]
        }
      ]
    },
    {
      "cell_type": "code",
      "source": [
        "df = pd.read_csv('/content/drive/MyDrive/byu/data0till_done.csv')\n",
        "df"
      ],
      "metadata": {
        "colab": {
          "base_uri": "https://localhost:8080/",
          "height": 956
        },
        "id": "wTNdFpeyAZXG",
        "outputId": "fc201bb5-e1a6-4461-8326-43359053beee"
      },
      "execution_count": 4,
      "outputs": [
        {
          "output_type": "execute_result",
          "data": {
            "text/html": [
              "\n",
              "  <div id=\"df-38298f94-f868-43b9-b86b-0996bfefc4dd\">\n",
              "    <div class=\"colab-df-container\">\n",
              "      <div>\n",
              "<style scoped>\n",
              "    .dataframe tbody tr th:only-of-type {\n",
              "        vertical-align: middle;\n",
              "    }\n",
              "\n",
              "    .dataframe tbody tr th {\n",
              "        vertical-align: top;\n",
              "    }\n",
              "\n",
              "    .dataframe thead th {\n",
              "        text-align: right;\n",
              "    }\n",
              "</style>\n",
              "<table border=\"1\" class=\"dataframe\">\n",
              "  <thead>\n",
              "    <tr style=\"text-align: right;\">\n",
              "      <th></th>\n",
              "      <th>id</th>\n",
              "      <th>created_at</th>\n",
              "      <th>source</th>\n",
              "      <th>label</th>\n",
              "      <th>original_text</th>\n",
              "      <th>clean_text</th>\n",
              "      <th>lang</th>\n",
              "      <th>favorite_count</th>\n",
              "      <th>retweet_count</th>\n",
              "      <th>original_author</th>\n",
              "      <th>possibly_sensitive</th>\n",
              "      <th>hashtags</th>\n",
              "      <th>user_mentions</th>\n",
              "      <th>place</th>\n",
              "      <th>place_coord_boundaries</th>\n",
              "    </tr>\n",
              "  </thead>\n",
              "  <tbody>\n",
              "    <tr>\n",
              "      <th>0</th>\n",
              "      <td>1478564382783110000</td>\n",
              "      <td>Wed Jan 05 03:09:53 +0000 2022</td>\n",
              "      <td>&lt;a href=\"http://twitter.com/download/android\" ...</td>\n",
              "      <td>negatif</td>\n",
              "      <td>@byu_id apa aku harus nunggu ber-jam² hingga a...</td>\n",
              "      <td>nunggu ber jam hingga aplikasi terbuka</td>\n",
              "      <td>in</td>\n",
              "      <td>0</td>\n",
              "      <td>0</td>\n",
              "      <td>rickjak16</td>\n",
              "      <td>False</td>\n",
              "      <td>NaN</td>\n",
              "      <td>byu_id</td>\n",
              "      <td>Planet Namex</td>\n",
              "      <td>NaN</td>\n",
              "    </tr>\n",
              "    <tr>\n",
              "      <th>1</th>\n",
              "      <td>1478561754284060000</td>\n",
              "      <td>Wed Jan 05 02:59:27 +0000 2022</td>\n",
              "      <td>&lt;a href=\"http://twitter.com/download/android\" ...</td>\n",
              "      <td>negatif</td>\n",
              "      <td>Min @byu_id tolong jawab lah. Jangan di skip.</td>\n",
              "      <td>min jawab skip</td>\n",
              "      <td>in</td>\n",
              "      <td>0</td>\n",
              "      <td>0</td>\n",
              "      <td>Oghee_1900</td>\n",
              "      <td>NaN</td>\n",
              "      <td>NaN</td>\n",
              "      <td>byu_id</td>\n",
              "      <td>DKI Jakarta, Indonesia</td>\n",
              "      <td>NaN</td>\n",
              "    </tr>\n",
              "    <tr>\n",
              "      <th>2</th>\n",
              "      <td>1478558087564830000</td>\n",
              "      <td>Wed Jan 05 02:44:53 +0000 2022</td>\n",
              "      <td>&lt;a href=\"http://twitter.com/download/android\" ...</td>\n",
              "      <td>negatif</td>\n",
              "      <td>@byu_id min beberapa hari belakangan ini kok s...</td>\n",
              "      <td>min sinyal by tidak stabil hp nokia pluslokasi...</td>\n",
              "      <td>in</td>\n",
              "      <td>0</td>\n",
              "      <td>0</td>\n",
              "      <td>Andi_Pi14</td>\n",
              "      <td>NaN</td>\n",
              "      <td>NaN</td>\n",
              "      <td>byu_id</td>\n",
              "      <td>Indonesia</td>\n",
              "      <td>NaN</td>\n",
              "    </tr>\n",
              "    <tr>\n",
              "      <th>3</th>\n",
              "      <td>1478556956310650000</td>\n",
              "      <td>Wed Jan 05 02:40:23 +0000 2022</td>\n",
              "      <td>&lt;a href=\"http://twitter.com/download/android\" ...</td>\n",
              "      <td>netral</td>\n",
              "      <td>ada\\n(selalu ada buat teman)\\ngokil\\n(tingkah ...</td>\n",
              "      <td>teman gila tingkah gila kumpul kepomasa sih</td>\n",
              "      <td>in</td>\n",
              "      <td>0</td>\n",
              "      <td>0</td>\n",
              "      <td>AlRob1179</td>\n",
              "      <td>NaN</td>\n",
              "      <td>NaN</td>\n",
              "      <td>byu_id</td>\n",
              "      <td>Medan Timur, Indonesia</td>\n",
              "      <td>NaN</td>\n",
              "    </tr>\n",
              "    <tr>\n",
              "      <th>4</th>\n",
              "      <td>1478555575197730000</td>\n",
              "      <td>Wed Jan 05 02:34:54 +0000 2022</td>\n",
              "      <td>&lt;a href=\"http://twitter.com/download/android\" ...</td>\n",
              "      <td>netral</td>\n",
              "      <td>@SpeciaIONEe @worksfess @IndosatCare @triindon...</td>\n",
              "      <td>mengadopsi bebas aktif nomor hahaha</td>\n",
              "      <td>in</td>\n",
              "      <td>0</td>\n",
              "      <td>0</td>\n",
              "      <td>bangvalash</td>\n",
              "      <td>NaN</td>\n",
              "      <td>NaN</td>\n",
              "      <td>SpeciaIONEe, worksfess, IndosatCare, triindone...</td>\n",
              "      <td>Mars, PA</td>\n",
              "      <td>NaN</td>\n",
              "    </tr>\n",
              "    <tr>\n",
              "      <th>...</th>\n",
              "      <td>...</td>\n",
              "      <td>...</td>\n",
              "      <td>...</td>\n",
              "      <td>...</td>\n",
              "      <td>...</td>\n",
              "      <td>...</td>\n",
              "      <td>...</td>\n",
              "      <td>...</td>\n",
              "      <td>...</td>\n",
              "      <td>...</td>\n",
              "      <td>...</td>\n",
              "      <td>...</td>\n",
              "      <td>...</td>\n",
              "      <td>...</td>\n",
              "      <td>...</td>\n",
              "    </tr>\n",
              "    <tr>\n",
              "      <th>2200</th>\n",
              "      <td>1475392292517140000</td>\n",
              "      <td>Wed Jan 05 03:29:37 +0000 2022</td>\n",
              "      <td>&lt;a href=\"http://www.tweetcaster.com\" rel=\"nofo...</td>\n",
              "      <td>netral</td>\n",
              "      <td>@byu_id min minta settingan APN dong</td>\n",
              "      <td>admin settingan apn</td>\n",
              "      <td>in</td>\n",
              "      <td>0</td>\n",
              "      <td>0</td>\n",
              "      <td>ErwinAvrio</td>\n",
              "      <td>NaN</td>\n",
              "      <td>NaN</td>\n",
              "      <td>byu_id</td>\n",
              "      <td>NaN</td>\n",
              "      <td>NaN</td>\n",
              "    </tr>\n",
              "    <tr>\n",
              "      <th>2201</th>\n",
              "      <td>1475392195599290000</td>\n",
              "      <td>Fri Dec 31 16:16:30 +0000 2021</td>\n",
              "      <td>&lt;a href=\"https://mobile.twitter.com\" rel=\"nofo...</td>\n",
              "      <td>negatif</td>\n",
              "      <td>jahat banget kamu nyuruh aku istirahat duluan ...</td>\n",
              "      <td>jahat banget nyuruh istirahat duluan malam</td>\n",
              "      <td>in</td>\n",
              "      <td>0</td>\n",
              "      <td>0</td>\n",
              "      <td>rmd_azhari</td>\n",
              "      <td>NaN</td>\n",
              "      <td>NaN</td>\n",
              "      <td>byu_id</td>\n",
              "      <td>NaN</td>\n",
              "      <td>NaN</td>\n",
              "    </tr>\n",
              "    <tr>\n",
              "      <th>2202</th>\n",
              "      <td>1475392180348850000</td>\n",
              "      <td>Thu Dec 30 05:15:39 +0000 2021</td>\n",
              "      <td>&lt;a href=\"http://twitter.com/download/android\" ...</td>\n",
              "      <td>positif</td>\n",
              "      <td>Selamat tiga bulan bersama kak:) https://t.co/...</td>\n",
              "      <td>selamat kak</td>\n",
              "      <td>in</td>\n",
              "      <td>6</td>\n",
              "      <td>0</td>\n",
              "      <td>byu_id</td>\n",
              "      <td>False</td>\n",
              "      <td>NaN</td>\n",
              "      <td>NaN</td>\n",
              "      <td>Indonesia</td>\n",
              "      <td>NaN</td>\n",
              "    </tr>\n",
              "    <tr>\n",
              "      <th>2203</th>\n",
              "      <td>1475391957635530000</td>\n",
              "      <td>Thu Dec 30 04:12:01 +0000 2021</td>\n",
              "      <td>&lt;a href=\"http://twitter.com/download/iphone\" r...</td>\n",
              "      <td>negatif</td>\n",
              "      <td>LU NIAT BIKIN PROVIDER GAKSI ANJG EMOSI @byu_id</td>\n",
              "      <td>niat bikin provider gaksi anjg emosi</td>\n",
              "      <td>in</td>\n",
              "      <td>0</td>\n",
              "      <td>0</td>\n",
              "      <td>maruk0chann</td>\n",
              "      <td>NaN</td>\n",
              "      <td>NaN</td>\n",
              "      <td>byu_id</td>\n",
              "      <td>┊͙ ˘͈ᵕ˘͈</td>\n",
              "      <td>NaN</td>\n",
              "    </tr>\n",
              "    <tr>\n",
              "      <th>2204</th>\n",
              "      <td>1475391712130260000</td>\n",
              "      <td>Thu Dec 30 03:34:23 +0000 2021</td>\n",
              "      <td>&lt;a href=\"http://twitter.com/download/iphone\" r...</td>\n",
              "      <td>positif</td>\n",
              "      <td>Demi apa sih ada monthiversary giniii?!!! Buse...</td>\n",
              "      <td>sih monthiversary giniii buseh kalah doi</td>\n",
              "      <td>in</td>\n",
              "      <td>0</td>\n",
              "      <td>0</td>\n",
              "      <td>ryutaca15</td>\n",
              "      <td>False</td>\n",
              "      <td>NaN</td>\n",
              "      <td>byu_id</td>\n",
              "      <td>Jakarta Selatan, DKI Jakarta</td>\n",
              "      <td>NaN</td>\n",
              "    </tr>\n",
              "  </tbody>\n",
              "</table>\n",
              "<p>2205 rows × 15 columns</p>\n",
              "</div>\n",
              "      <button class=\"colab-df-convert\" onclick=\"convertToInteractive('df-38298f94-f868-43b9-b86b-0996bfefc4dd')\"\n",
              "              title=\"Convert this dataframe to an interactive table.\"\n",
              "              style=\"display:none;\">\n",
              "        \n",
              "  <svg xmlns=\"http://www.w3.org/2000/svg\" height=\"24px\"viewBox=\"0 0 24 24\"\n",
              "       width=\"24px\">\n",
              "    <path d=\"M0 0h24v24H0V0z\" fill=\"none\"/>\n",
              "    <path d=\"M18.56 5.44l.94 2.06.94-2.06 2.06-.94-2.06-.94-.94-2.06-.94 2.06-2.06.94zm-11 1L8.5 8.5l.94-2.06 2.06-.94-2.06-.94L8.5 2.5l-.94 2.06-2.06.94zm10 10l.94 2.06.94-2.06 2.06-.94-2.06-.94-.94-2.06-.94 2.06-2.06.94z\"/><path d=\"M17.41 7.96l-1.37-1.37c-.4-.4-.92-.59-1.43-.59-.52 0-1.04.2-1.43.59L10.3 9.45l-7.72 7.72c-.78.78-.78 2.05 0 2.83L4 21.41c.39.39.9.59 1.41.59.51 0 1.02-.2 1.41-.59l7.78-7.78 2.81-2.81c.8-.78.8-2.07 0-2.86zM5.41 20L4 18.59l7.72-7.72 1.47 1.35L5.41 20z\"/>\n",
              "  </svg>\n",
              "      </button>\n",
              "      \n",
              "  <style>\n",
              "    .colab-df-container {\n",
              "      display:flex;\n",
              "      flex-wrap:wrap;\n",
              "      gap: 12px;\n",
              "    }\n",
              "\n",
              "    .colab-df-convert {\n",
              "      background-color: #E8F0FE;\n",
              "      border: none;\n",
              "      border-radius: 50%;\n",
              "      cursor: pointer;\n",
              "      display: none;\n",
              "      fill: #1967D2;\n",
              "      height: 32px;\n",
              "      padding: 0 0 0 0;\n",
              "      width: 32px;\n",
              "    }\n",
              "\n",
              "    .colab-df-convert:hover {\n",
              "      background-color: #E2EBFA;\n",
              "      box-shadow: 0px 1px 2px rgba(60, 64, 67, 0.3), 0px 1px 3px 1px rgba(60, 64, 67, 0.15);\n",
              "      fill: #174EA6;\n",
              "    }\n",
              "\n",
              "    [theme=dark] .colab-df-convert {\n",
              "      background-color: #3B4455;\n",
              "      fill: #D2E3FC;\n",
              "    }\n",
              "\n",
              "    [theme=dark] .colab-df-convert:hover {\n",
              "      background-color: #434B5C;\n",
              "      box-shadow: 0px 1px 3px 1px rgba(0, 0, 0, 0.15);\n",
              "      filter: drop-shadow(0px 1px 2px rgba(0, 0, 0, 0.3));\n",
              "      fill: #FFFFFF;\n",
              "    }\n",
              "  </style>\n",
              "\n",
              "      <script>\n",
              "        const buttonEl =\n",
              "          document.querySelector('#df-38298f94-f868-43b9-b86b-0996bfefc4dd button.colab-df-convert');\n",
              "        buttonEl.style.display =\n",
              "          google.colab.kernel.accessAllowed ? 'block' : 'none';\n",
              "\n",
              "        async function convertToInteractive(key) {\n",
              "          const element = document.querySelector('#df-38298f94-f868-43b9-b86b-0996bfefc4dd');\n",
              "          const dataTable =\n",
              "            await google.colab.kernel.invokeFunction('convertToInteractive',\n",
              "                                                     [key], {});\n",
              "          if (!dataTable) return;\n",
              "\n",
              "          const docLinkHtml = 'Like what you see? Visit the ' +\n",
              "            '<a target=\"_blank\" href=https://colab.research.google.com/notebooks/data_table.ipynb>data table notebook</a>'\n",
              "            + ' to learn more about interactive tables.';\n",
              "          element.innerHTML = '';\n",
              "          dataTable['output_type'] = 'display_data';\n",
              "          await google.colab.output.renderOutput(dataTable, element);\n",
              "          const docLink = document.createElement('div');\n",
              "          docLink.innerHTML = docLinkHtml;\n",
              "          element.appendChild(docLink);\n",
              "        }\n",
              "      </script>\n",
              "    </div>\n",
              "  </div>\n",
              "  "
            ],
            "text/plain": [
              "                       id  ... place_coord_boundaries\n",
              "0     1478564382783110000  ...                    NaN\n",
              "1     1478561754284060000  ...                    NaN\n",
              "2     1478558087564830000  ...                    NaN\n",
              "3     1478556956310650000  ...                    NaN\n",
              "4     1478555575197730000  ...                    NaN\n",
              "...                   ...  ...                    ...\n",
              "2200  1475392292517140000  ...                    NaN\n",
              "2201  1475392195599290000  ...                    NaN\n",
              "2202  1475392180348850000  ...                    NaN\n",
              "2203  1475391957635530000  ...                    NaN\n",
              "2204  1475391712130260000  ...                    NaN\n",
              "\n",
              "[2205 rows x 15 columns]"
            ]
          },
          "metadata": {},
          "execution_count": 4
        }
      ]
    },
    {
      "cell_type": "markdown",
      "source": [
        "# Using Naive Bayes"
      ],
      "metadata": {
        "id": "A-JKbrjYGXym"
      }
    },
    {
      "cell_type": "code",
      "source": [
        "df.head()"
      ],
      "metadata": {
        "colab": {
          "base_uri": "https://localhost:8080/",
          "height": 548
        },
        "id": "7HTlpUHQHidu",
        "outputId": "a76f37b9-cc58-4e2e-febb-f8c09ac73b33"
      },
      "execution_count": 5,
      "outputs": [
        {
          "output_type": "execute_result",
          "data": {
            "text/html": [
              "\n",
              "  <div id=\"df-aa6e81c8-b6c0-4207-a31c-d5bdf14902d9\">\n",
              "    <div class=\"colab-df-container\">\n",
              "      <div>\n",
              "<style scoped>\n",
              "    .dataframe tbody tr th:only-of-type {\n",
              "        vertical-align: middle;\n",
              "    }\n",
              "\n",
              "    .dataframe tbody tr th {\n",
              "        vertical-align: top;\n",
              "    }\n",
              "\n",
              "    .dataframe thead th {\n",
              "        text-align: right;\n",
              "    }\n",
              "</style>\n",
              "<table border=\"1\" class=\"dataframe\">\n",
              "  <thead>\n",
              "    <tr style=\"text-align: right;\">\n",
              "      <th></th>\n",
              "      <th>id</th>\n",
              "      <th>created_at</th>\n",
              "      <th>source</th>\n",
              "      <th>label</th>\n",
              "      <th>original_text</th>\n",
              "      <th>clean_text</th>\n",
              "      <th>lang</th>\n",
              "      <th>favorite_count</th>\n",
              "      <th>retweet_count</th>\n",
              "      <th>original_author</th>\n",
              "      <th>possibly_sensitive</th>\n",
              "      <th>hashtags</th>\n",
              "      <th>user_mentions</th>\n",
              "      <th>place</th>\n",
              "      <th>place_coord_boundaries</th>\n",
              "    </tr>\n",
              "  </thead>\n",
              "  <tbody>\n",
              "    <tr>\n",
              "      <th>0</th>\n",
              "      <td>1478564382783110000</td>\n",
              "      <td>Wed Jan 05 03:09:53 +0000 2022</td>\n",
              "      <td>&lt;a href=\"http://twitter.com/download/android\" ...</td>\n",
              "      <td>negatif</td>\n",
              "      <td>@byu_id apa aku harus nunggu ber-jam² hingga a...</td>\n",
              "      <td>nunggu ber jam hingga aplikasi terbuka</td>\n",
              "      <td>in</td>\n",
              "      <td>0</td>\n",
              "      <td>0</td>\n",
              "      <td>rickjak16</td>\n",
              "      <td>False</td>\n",
              "      <td>NaN</td>\n",
              "      <td>byu_id</td>\n",
              "      <td>Planet Namex</td>\n",
              "      <td>NaN</td>\n",
              "    </tr>\n",
              "    <tr>\n",
              "      <th>1</th>\n",
              "      <td>1478561754284060000</td>\n",
              "      <td>Wed Jan 05 02:59:27 +0000 2022</td>\n",
              "      <td>&lt;a href=\"http://twitter.com/download/android\" ...</td>\n",
              "      <td>negatif</td>\n",
              "      <td>Min @byu_id tolong jawab lah. Jangan di skip.</td>\n",
              "      <td>min jawab skip</td>\n",
              "      <td>in</td>\n",
              "      <td>0</td>\n",
              "      <td>0</td>\n",
              "      <td>Oghee_1900</td>\n",
              "      <td>NaN</td>\n",
              "      <td>NaN</td>\n",
              "      <td>byu_id</td>\n",
              "      <td>DKI Jakarta, Indonesia</td>\n",
              "      <td>NaN</td>\n",
              "    </tr>\n",
              "    <tr>\n",
              "      <th>2</th>\n",
              "      <td>1478558087564830000</td>\n",
              "      <td>Wed Jan 05 02:44:53 +0000 2022</td>\n",
              "      <td>&lt;a href=\"http://twitter.com/download/android\" ...</td>\n",
              "      <td>negatif</td>\n",
              "      <td>@byu_id min beberapa hari belakangan ini kok s...</td>\n",
              "      <td>min sinyal by tidak stabil hp nokia pluslokasi...</td>\n",
              "      <td>in</td>\n",
              "      <td>0</td>\n",
              "      <td>0</td>\n",
              "      <td>Andi_Pi14</td>\n",
              "      <td>NaN</td>\n",
              "      <td>NaN</td>\n",
              "      <td>byu_id</td>\n",
              "      <td>Indonesia</td>\n",
              "      <td>NaN</td>\n",
              "    </tr>\n",
              "    <tr>\n",
              "      <th>3</th>\n",
              "      <td>1478556956310650000</td>\n",
              "      <td>Wed Jan 05 02:40:23 +0000 2022</td>\n",
              "      <td>&lt;a href=\"http://twitter.com/download/android\" ...</td>\n",
              "      <td>netral</td>\n",
              "      <td>ada\\n(selalu ada buat teman)\\ngokil\\n(tingkah ...</td>\n",
              "      <td>teman gila tingkah gila kumpul kepomasa sih</td>\n",
              "      <td>in</td>\n",
              "      <td>0</td>\n",
              "      <td>0</td>\n",
              "      <td>AlRob1179</td>\n",
              "      <td>NaN</td>\n",
              "      <td>NaN</td>\n",
              "      <td>byu_id</td>\n",
              "      <td>Medan Timur, Indonesia</td>\n",
              "      <td>NaN</td>\n",
              "    </tr>\n",
              "    <tr>\n",
              "      <th>4</th>\n",
              "      <td>1478555575197730000</td>\n",
              "      <td>Wed Jan 05 02:34:54 +0000 2022</td>\n",
              "      <td>&lt;a href=\"http://twitter.com/download/android\" ...</td>\n",
              "      <td>netral</td>\n",
              "      <td>@SpeciaIONEe @worksfess @IndosatCare @triindon...</td>\n",
              "      <td>mengadopsi bebas aktif nomor hahaha</td>\n",
              "      <td>in</td>\n",
              "      <td>0</td>\n",
              "      <td>0</td>\n",
              "      <td>bangvalash</td>\n",
              "      <td>NaN</td>\n",
              "      <td>NaN</td>\n",
              "      <td>SpeciaIONEe, worksfess, IndosatCare, triindone...</td>\n",
              "      <td>Mars, PA</td>\n",
              "      <td>NaN</td>\n",
              "    </tr>\n",
              "  </tbody>\n",
              "</table>\n",
              "</div>\n",
              "      <button class=\"colab-df-convert\" onclick=\"convertToInteractive('df-aa6e81c8-b6c0-4207-a31c-d5bdf14902d9')\"\n",
              "              title=\"Convert this dataframe to an interactive table.\"\n",
              "              style=\"display:none;\">\n",
              "        \n",
              "  <svg xmlns=\"http://www.w3.org/2000/svg\" height=\"24px\"viewBox=\"0 0 24 24\"\n",
              "       width=\"24px\">\n",
              "    <path d=\"M0 0h24v24H0V0z\" fill=\"none\"/>\n",
              "    <path d=\"M18.56 5.44l.94 2.06.94-2.06 2.06-.94-2.06-.94-.94-2.06-.94 2.06-2.06.94zm-11 1L8.5 8.5l.94-2.06 2.06-.94-2.06-.94L8.5 2.5l-.94 2.06-2.06.94zm10 10l.94 2.06.94-2.06 2.06-.94-2.06-.94-.94-2.06-.94 2.06-2.06.94z\"/><path d=\"M17.41 7.96l-1.37-1.37c-.4-.4-.92-.59-1.43-.59-.52 0-1.04.2-1.43.59L10.3 9.45l-7.72 7.72c-.78.78-.78 2.05 0 2.83L4 21.41c.39.39.9.59 1.41.59.51 0 1.02-.2 1.41-.59l7.78-7.78 2.81-2.81c.8-.78.8-2.07 0-2.86zM5.41 20L4 18.59l7.72-7.72 1.47 1.35L5.41 20z\"/>\n",
              "  </svg>\n",
              "      </button>\n",
              "      \n",
              "  <style>\n",
              "    .colab-df-container {\n",
              "      display:flex;\n",
              "      flex-wrap:wrap;\n",
              "      gap: 12px;\n",
              "    }\n",
              "\n",
              "    .colab-df-convert {\n",
              "      background-color: #E8F0FE;\n",
              "      border: none;\n",
              "      border-radius: 50%;\n",
              "      cursor: pointer;\n",
              "      display: none;\n",
              "      fill: #1967D2;\n",
              "      height: 32px;\n",
              "      padding: 0 0 0 0;\n",
              "      width: 32px;\n",
              "    }\n",
              "\n",
              "    .colab-df-convert:hover {\n",
              "      background-color: #E2EBFA;\n",
              "      box-shadow: 0px 1px 2px rgba(60, 64, 67, 0.3), 0px 1px 3px 1px rgba(60, 64, 67, 0.15);\n",
              "      fill: #174EA6;\n",
              "    }\n",
              "\n",
              "    [theme=dark] .colab-df-convert {\n",
              "      background-color: #3B4455;\n",
              "      fill: #D2E3FC;\n",
              "    }\n",
              "\n",
              "    [theme=dark] .colab-df-convert:hover {\n",
              "      background-color: #434B5C;\n",
              "      box-shadow: 0px 1px 3px 1px rgba(0, 0, 0, 0.15);\n",
              "      filter: drop-shadow(0px 1px 2px rgba(0, 0, 0, 0.3));\n",
              "      fill: #FFFFFF;\n",
              "    }\n",
              "  </style>\n",
              "\n",
              "      <script>\n",
              "        const buttonEl =\n",
              "          document.querySelector('#df-aa6e81c8-b6c0-4207-a31c-d5bdf14902d9 button.colab-df-convert');\n",
              "        buttonEl.style.display =\n",
              "          google.colab.kernel.accessAllowed ? 'block' : 'none';\n",
              "\n",
              "        async function convertToInteractive(key) {\n",
              "          const element = document.querySelector('#df-aa6e81c8-b6c0-4207-a31c-d5bdf14902d9');\n",
              "          const dataTable =\n",
              "            await google.colab.kernel.invokeFunction('convertToInteractive',\n",
              "                                                     [key], {});\n",
              "          if (!dataTable) return;\n",
              "\n",
              "          const docLinkHtml = 'Like what you see? Visit the ' +\n",
              "            '<a target=\"_blank\" href=https://colab.research.google.com/notebooks/data_table.ipynb>data table notebook</a>'\n",
              "            + ' to learn more about interactive tables.';\n",
              "          element.innerHTML = '';\n",
              "          dataTable['output_type'] = 'display_data';\n",
              "          await google.colab.output.renderOutput(dataTable, element);\n",
              "          const docLink = document.createElement('div');\n",
              "          docLink.innerHTML = docLinkHtml;\n",
              "          element.appendChild(docLink);\n",
              "        }\n",
              "      </script>\n",
              "    </div>\n",
              "  </div>\n",
              "  "
            ],
            "text/plain": [
              "                    id  ... place_coord_boundaries\n",
              "0  1478564382783110000  ...                    NaN\n",
              "1  1478561754284060000  ...                    NaN\n",
              "2  1478558087564830000  ...                    NaN\n",
              "3  1478556956310650000  ...                    NaN\n",
              "4  1478555575197730000  ...                    NaN\n",
              "\n",
              "[5 rows x 15 columns]"
            ]
          },
          "metadata": {},
          "execution_count": 5
        }
      ]
    },
    {
      "cell_type": "code",
      "source": [
        "df.label.value_counts()"
      ],
      "metadata": {
        "colab": {
          "base_uri": "https://localhost:8080/"
        },
        "id": "wE9o5I3sDuOH",
        "outputId": "6ec9cbee-9cef-496d-d96c-503700ccca24"
      },
      "execution_count": 6,
      "outputs": [
        {
          "output_type": "execute_result",
          "data": {
            "text/plain": [
              "negatif    1235\n",
              "netral      759\n",
              "positif     211\n",
              "Name: label, dtype: int64"
            ]
          },
          "metadata": {},
          "execution_count": 6
        }
      ]
    },
    {
      "cell_type": "code",
      "source": [
        "# split data\n",
        "X_train, X_test, y_train, y_test = train_test_split(df.clean_text, df.label, test_size=0.2, stratify=df.label)"
      ],
      "metadata": {
        "id": "PzvKq6D4FvKp"
      },
      "execution_count": 7,
      "outputs": []
    },
    {
      "cell_type": "markdown",
      "source": [
        "## Using TfidfVectorizer"
      ],
      "metadata": {
        "id": "5Slr1U48Dp0i"
      }
    },
    {
      "cell_type": "code",
      "source": [
        "stp = StopWordRemoverFactory().get_stop_words()\n",
        "vect = TfidfVectorizer()"
      ],
      "metadata": {
        "id": "nnoFmAHxF0Hl"
      },
      "execution_count": 8,
      "outputs": []
    },
    {
      "cell_type": "code",
      "source": [
        "X_train_vec = vect.fit_transform(X_train)\n",
        "X_test_vec = vect.transform(X_test)"
      ],
      "metadata": {
        "id": "s4aD1WViGIUs"
      },
      "execution_count": 9,
      "outputs": []
    },
    {
      "cell_type": "code",
      "source": [
        "#SMOTE\n",
        "\n",
        "#SMOTE METHOD\n",
        "from imblearn.over_sampling import SMOTE\n",
        "from collections import Counter\n",
        "\n",
        "counter = Counter(df.label)\n",
        "print('Before :', counter)\n",
        "\n",
        "#Oversampling of the dataset using SMOTE\n",
        "smt = SMOTE()\n",
        "X_smote, y_smote = smt.fit_resample(X_train_vec, y_train)\n",
        "\n",
        "counter = Counter(y_smote)\n",
        "print('After :', counter)"
      ],
      "metadata": {
        "colab": {
          "base_uri": "https://localhost:8080/"
        },
        "id": "aIVABTG5zTm4",
        "outputId": "a1661b96-8e58-4a3c-8042-df55ad87d3fd"
      },
      "execution_count": 10,
      "outputs": [
        {
          "output_type": "stream",
          "name": "stdout",
          "text": [
            "Before : Counter({'negatif': 1235, 'netral': 759, 'positif': 211})\n",
            "After : Counter({'negatif': 988, 'netral': 988, 'positif': 988})\n"
          ]
        }
      ]
    },
    {
      "cell_type": "code",
      "source": [
        "# training naive bayes\n",
        "nb1 = MultinomialNB()\n",
        "nb1.fit(X_smote, y_smote)\n",
        "\n",
        "#Random forest\n",
        "from sklearn.ensemble import RandomForestClassifier\n",
        "rf1 = RandomForestClassifier()\n",
        "rf1.fit(X_smote, y_smote)\n",
        "\n",
        "#SVC \n",
        "from sklearn.svm import SVC\n",
        "svc1 = SVC()\n",
        "svc1.fit(X_smote, y_smote)"
      ],
      "metadata": {
        "colab": {
          "base_uri": "https://localhost:8080/"
        },
        "id": "XLj9Ed5SGKrI",
        "outputId": "1df95422-feb5-4762-ccd6-1ed153dc80cd"
      },
      "execution_count": 19,
      "outputs": [
        {
          "output_type": "execute_result",
          "data": {
            "text/plain": [
              "SVC()"
            ]
          },
          "metadata": {},
          "execution_count": 19
        }
      ]
    },
    {
      "cell_type": "code",
      "source": [
        "# evaluasi\n",
        "y_pred_nb1 = nb1.predict(X_test_vec)\n",
        "print(classification_report(y_test, y_pred_nb1))\n",
        "\n",
        "y_pred_rf1 = rf1.predict(X_test_vec)\n",
        "print(classification_report(y_test, y_pred_rf1))\n",
        "\n",
        "y_pred_svc1 = svc1.predict(X_test_vec)\n",
        "print(classification_report(y_test, y_pred_svc1))"
      ],
      "metadata": {
        "colab": {
          "base_uri": "https://localhost:8080/"
        },
        "id": "DNbHB5uEGNQA",
        "outputId": "fce3f084-4fe7-4229-f94e-8a37099d79d8"
      },
      "execution_count": 20,
      "outputs": [
        {
          "output_type": "stream",
          "name": "stdout",
          "text": [
            "              precision    recall  f1-score   support\n",
            "\n",
            "     negatif       0.81      0.87      0.84       247\n",
            "      netral       0.75      0.64      0.69       152\n",
            "     positif       0.58      0.62      0.60        42\n",
            "\n",
            "    accuracy                           0.77       441\n",
            "   macro avg       0.71      0.71      0.71       441\n",
            "weighted avg       0.77      0.77      0.76       441\n",
            "\n",
            "              precision    recall  f1-score   support\n",
            "\n",
            "     negatif       0.89      0.83      0.86       247\n",
            "      netral       0.72      0.86      0.78       152\n",
            "     positif       0.71      0.48      0.57        42\n",
            "\n",
            "    accuracy                           0.81       441\n",
            "   macro avg       0.78      0.72      0.74       441\n",
            "weighted avg       0.82      0.81      0.81       441\n",
            "\n",
            "              precision    recall  f1-score   support\n",
            "\n",
            "     negatif       0.79      0.91      0.85       247\n",
            "      netral       0.76      0.70      0.73       152\n",
            "     positif       0.88      0.36      0.51        42\n",
            "\n",
            "    accuracy                           0.78       441\n",
            "   macro avg       0.81      0.66      0.69       441\n",
            "weighted avg       0.79      0.78      0.77       441\n",
            "\n"
          ]
        }
      ]
    },
    {
      "cell_type": "code",
      "source": [
        "#save model\n",
        "import joblib\n",
        "joblib.dump(rf1, 'model_rf_tfidf.pkl')"
      ],
      "metadata": {
        "colab": {
          "base_uri": "https://localhost:8080/"
        },
        "id": "xBtLM6wXbYqu",
        "outputId": "5a16b132-b227-442d-8835-1acf63b1149c"
      },
      "execution_count": 21,
      "outputs": [
        {
          "output_type": "execute_result",
          "data": {
            "text/plain": [
              "['model_rf_tfidf.pkl']"
            ]
          },
          "metadata": {},
          "execution_count": 21
        }
      ]
    },
    {
      "cell_type": "code",
      "source": [
        "userText = ['ihh lemot ya byu']\n",
        "label = joblib.load('model_rf_tfidf.pkl')\n",
        "userText = vect.transform(userText)\n",
        "pred = label.predict(userText)\n",
        "pred"
      ],
      "metadata": {
        "colab": {
          "base_uri": "https://localhost:8080/"
        },
        "id": "ph0YP8DQjgYZ",
        "outputId": "2cbe0153-ed74-4029-ee8f-d94bbe89191d"
      },
      "execution_count": 22,
      "outputs": [
        {
          "output_type": "execute_result",
          "data": {
            "text/plain": [
              "array(['netral'], dtype=object)"
            ]
          },
          "metadata": {},
          "execution_count": 22
        }
      ]
    },
    {
      "cell_type": "markdown",
      "source": [
        "## Using CountVectorizer"
      ],
      "metadata": {
        "id": "_EDgtGEAD7_C"
      }
    },
    {
      "cell_type": "code",
      "source": [
        "stp = StopWordRemoverFactory().get_stop_words()\n",
        "vect_count = CountVectorizer()"
      ],
      "metadata": {
        "id": "uJVHUU3TD00j"
      },
      "execution_count": 14,
      "outputs": []
    },
    {
      "cell_type": "code",
      "source": [
        "X_train_vec_count = vect_count.fit_transform(X_train)\n",
        "X_test_vec_count = vect_count.transform(X_test)"
      ],
      "metadata": {
        "id": "gGzJMHRMEDN4"
      },
      "execution_count": 15,
      "outputs": []
    },
    {
      "cell_type": "code",
      "source": [
        "#SMOTE\n",
        "\n",
        "#SMOTE METHOD\n",
        "from imblearn.over_sampling import SMOTE\n",
        "from collections import Counter\n",
        "\n",
        "counter = Counter(df.label)\n",
        "print('Before :', counter)\n",
        "\n",
        "#Oversampling of the dataset using SMOTE\n",
        "smt = SMOTE()\n",
        "X_smote_count, y_smote_count = smt.fit_resample(X_train_vec_count, y_train)\n",
        "\n",
        "counter = Counter(y_smote_count)\n",
        "print('After :', counter)"
      ],
      "metadata": {
        "colab": {
          "base_uri": "https://localhost:8080/"
        },
        "id": "1aaxUtpw0kYv",
        "outputId": "0507bfcc-bc0a-4385-de5a-7218468aa19c"
      },
      "execution_count": 16,
      "outputs": [
        {
          "output_type": "stream",
          "name": "stdout",
          "text": [
            "Before : Counter({'negatif': 1235, 'netral': 759, 'positif': 211})\n",
            "After : Counter({'negatif': 988, 'netral': 988, 'positif': 988})\n"
          ]
        }
      ]
    },
    {
      "cell_type": "code",
      "source": [
        "# training naive bayes\n",
        "nb = MultinomialNB()\n",
        "nb.fit(X_smote_count, y_smote_count)\n",
        "\n",
        "#Random forest\n",
        "from sklearn.ensemble import RandomForestClassifier\n",
        "rf = RandomForestClassifier()\n",
        "rf.fit(X_smote_count, y_smote_count)\n",
        "\n",
        "#SVC \n",
        "from sklearn.svm import SVC\n",
        "svc = SVC()\n",
        "svc.fit(X_smote_count, y_smote_count)"
      ],
      "metadata": {
        "colab": {
          "base_uri": "https://localhost:8080/"
        },
        "id": "drXGh63xEKvT",
        "outputId": "ef67ce29-606c-4e7b-efa7-ec7b3e4152d3"
      },
      "execution_count": 17,
      "outputs": [
        {
          "output_type": "execute_result",
          "data": {
            "text/plain": [
              "SVC()"
            ]
          },
          "metadata": {},
          "execution_count": 17
        }
      ]
    },
    {
      "cell_type": "code",
      "source": [
        "# evaluasi\n",
        "y_pred_nb = nb.predict(X_test_vec)\n",
        "print(classification_report(y_test, y_pred_nb))\n",
        "\n",
        "y_pred_rf = rf.predict(X_test_vec)\n",
        "print(classification_report(y_test, y_pred_rf))\n",
        "\n",
        "y_pred_svc = svc.predict(X_test_vec)\n",
        "print(classification_report(y_test, y_pred_svc))"
      ],
      "metadata": {
        "colab": {
          "base_uri": "https://localhost:8080/"
        },
        "id": "yRYx0Ww6ESyy",
        "outputId": "8ea9cf65-7931-4d2c-e275-3cc9f8798e08"
      },
      "execution_count": 18,
      "outputs": [
        {
          "output_type": "stream",
          "name": "stdout",
          "text": [
            "              precision    recall  f1-score   support\n",
            "\n",
            "     negatif       0.79      0.89      0.84       247\n",
            "      netral       0.76      0.59      0.66       152\n",
            "     positif       0.52      0.60      0.56        42\n",
            "\n",
            "    accuracy                           0.76       441\n",
            "   macro avg       0.69      0.69      0.68       441\n",
            "weighted avg       0.76      0.76      0.75       441\n",
            "\n",
            "              precision    recall  f1-score   support\n",
            "\n",
            "     negatif       0.97      0.16      0.27       247\n",
            "      netral       0.61      0.28      0.39       152\n",
            "     positif       0.12      0.95      0.21        42\n",
            "\n",
            "    accuracy                           0.28       441\n",
            "   macro avg       0.57      0.46      0.29       441\n",
            "weighted avg       0.77      0.28      0.31       441\n",
            "\n",
            "              precision    recall  f1-score   support\n",
            "\n",
            "     negatif       0.98      0.21      0.35       247\n",
            "      netral       0.68      0.45      0.54       152\n",
            "     positif       0.14      0.98      0.25        42\n",
            "\n",
            "    accuracy                           0.37       441\n",
            "   macro avg       0.60      0.55      0.38       441\n",
            "weighted avg       0.80      0.37      0.41       441\n",
            "\n"
          ]
        }
      ]
    },
    {
      "cell_type": "markdown",
      "source": [
        "# Using Deep Learning"
      ],
      "metadata": {
        "id": "dKyg5RgRGcii"
      }
    },
    {
      "cell_type": "code",
      "source": [
        "import pandas as pd\n",
        "from sklearn.model_selection import train_test_split"
      ],
      "metadata": {
        "id": "BFhnImj9GO2h"
      },
      "execution_count": 23,
      "outputs": []
    },
    {
      "cell_type": "code",
      "source": [
        "df.label = df.label.map({\"netral\" : 0, \"positif\": 1, \"negatif\":2})"
      ],
      "metadata": {
        "id": "p_2MLXEwHP-1"
      },
      "execution_count": 24,
      "outputs": []
    },
    {
      "cell_type": "code",
      "source": [
        "df.label.value_counts()"
      ],
      "metadata": {
        "colab": {
          "base_uri": "https://localhost:8080/"
        },
        "id": "xZ9pcH7CKr35",
        "outputId": "23330a82-8b47-4b3f-ad80-8c9b203a8a51"
      },
      "execution_count": 25,
      "outputs": [
        {
          "output_type": "execute_result",
          "data": {
            "text/plain": [
              "2    1235\n",
              "0     759\n",
              "1     211\n",
              "Name: label, dtype: int64"
            ]
          },
          "metadata": {},
          "execution_count": 25
        }
      ]
    },
    {
      "cell_type": "code",
      "source": [
        "train_df, test_df = train_test_split(df, test_size=0.2)"
      ],
      "metadata": {
        "id": "IBeuY9A9GhMZ"
      },
      "execution_count": 26,
      "outputs": []
    },
    {
      "cell_type": "code",
      "source": [
        "import random\n",
        "random_index = random.randint(0, len(train_df) - 5)\n",
        "for row in train_df[[\"clean_text\", \"label\"]][random_index:random_index + 5].itertuples():\n",
        "  _, text, target = row\n",
        "  if target == 0:\n",
        "    print(f\"Target: {target} (NETRAL)\")\n",
        "  elif target == 1:\n",
        "    print(f\"Target: {target} (POSITIF)\")\n",
        "  elif target == 2:\n",
        "    print(f\"Target: {target} (NEGATIF)\")\n",
        "  print(f\"Teks: {text}\\n\")\n",
        "  print(\"---\\n\")"
      ],
      "metadata": {
        "colab": {
          "base_uri": "https://localhost:8080/"
        },
        "id": "8ZwKOa1YHBqg",
        "outputId": "96d35083-2aa5-487b-f1b6-508ac4b5766b"
      },
      "execution_count": 27,
      "outputs": [
        {
          "output_type": "stream",
          "name": "stdout",
          "text": [
            "Target: 2 (NEGATIF)\n",
            "Teks: memang kawan tidak tuh website apps tidak diakses solusinya reset networknya pakai airplane mode pindah mode tidak tidak balikin tidak\n",
            "\n",
            "---\n",
            "\n",
            "Target: 1 (POSITIF)\n",
            "Teks: self hadiah kumandi air dinginkopi sugarmaraton dracin seharian\n",
            "\n",
            "---\n",
            "\n",
            "Target: 2 (NEGATIF)\n",
            "Teks: pemeliharaan sistem beli pakettttt\n",
            "\n",
            "---\n",
            "\n",
            "Target: 2 (NEGATIF)\n",
            "Teks: cek kartu xl sisa mb apk nya pekok\n",
            "\n",
            "---\n",
            "\n",
            "Target: 0 (NETRAL)\n",
            "Teks: min cek pesan\n",
            "\n",
            "---\n",
            "\n"
          ]
        }
      ]
    },
    {
      "cell_type": "code",
      "source": [
        "# get ready for target\n",
        "from tensorflow.keras.utils import to_categorical\n",
        "\n",
        "X_train, y_train = train_df.clean_text, train_df.label\n",
        "X_test, y_test = test_df.clean_text, test_df.label\n",
        "\n",
        "def prepare_target(y_train, y_test):\n",
        "  y_train_enc = to_categorical(y_train)\n",
        "  y_test_enc = to_categorical(y_test)\n",
        "  return y_train_enc, y_test_enc\n",
        "\n",
        "y_train, y_test = prepare_target(y_train, y_test)"
      ],
      "metadata": {
        "id": "H9SapP59GtX8"
      },
      "execution_count": 28,
      "outputs": []
    },
    {
      "cell_type": "code",
      "source": [
        "# split train-val\n",
        "train_sent, val_sent, train_labels, val_labels = train_test_split(X_train.to_numpy(),\n",
        "                                                                   y_train,\n",
        "                                                                   test_size=0.2)"
      ],
      "metadata": {
        "id": "1RTfNc7RISN4"
      },
      "execution_count": 29,
      "outputs": []
    },
    {
      "cell_type": "code",
      "source": [
        "train_sent[:10], train_labels[:10]"
      ],
      "metadata": {
        "colab": {
          "base_uri": "https://localhost:8080/"
        },
        "id": "JjMvl74NISjC",
        "outputId": "1db97f46-badb-4cf9-9006-25db109a7656"
      },
      "execution_count": 30,
      "outputs": [
        {
          "output_type": "execute_result",
          "data": {
            "text/plain": [
              "(array(['paket telepon sepuasnya by',\n",
              "        'bukan surabaya om perbedaan live on xl persis by telkomsel anak muda kualitas jaringannya dimuda in',\n",
              "        'cek pesan minnn',\n",
              "        'wahh bukan aplikasi nya eror bang coba refresh deh kaget lihat harga segitu',\n",
              "        'selamat ulang yaa kak semoga suka kado nindy', 'cek pesan min',\n",
              "        'sungguh amazing indah promo naikin gaji marketingnya',\n",
              "        'wakakaa ee',\n",
              "        'min jaringan lambat parah promo doang duar der dor jaringan kedodoran paket internet gb buka youtube buffering',\n",
              "        'sinyalnya ngaco sebentar mode pesawat pindah xl'], dtype=object),\n",
              " array([[0., 0., 1.],\n",
              "        [0., 0., 1.],\n",
              "        [1., 0., 0.],\n",
              "        [0., 0., 1.],\n",
              "        [0., 1., 0.],\n",
              "        [1., 0., 0.],\n",
              "        [0., 1., 0.],\n",
              "        [0., 1., 0.],\n",
              "        [0., 0., 1.],\n",
              "        [0., 0., 1.]], dtype=float32))"
            ]
          },
          "metadata": {},
          "execution_count": 30
        }
      ]
    },
    {
      "cell_type": "markdown",
      "source": [
        "# Tokenization"
      ],
      "metadata": {
        "id": "DK-rIqRqIYNK"
      }
    },
    {
      "cell_type": "code",
      "source": [
        "import tensorflow as tf\n",
        "from tensorflow.keras.layers.experimental.preprocessing import TextVectorization"
      ],
      "metadata": {
        "id": "LK3KMA8KIUPU"
      },
      "execution_count": 31,
      "outputs": []
    },
    {
      "cell_type": "code",
      "source": [
        "round(sum([len(i.split()) for i in train_sent])/len(train_sent))"
      ],
      "metadata": {
        "colab": {
          "base_uri": "https://localhost:8080/"
        },
        "id": "Ga2u7VHyIZpP",
        "outputId": "13d7017c-092d-497f-c6ac-74cfd3a4b503"
      },
      "execution_count": 32,
      "outputs": [
        {
          "output_type": "execute_result",
          "data": {
            "text/plain": [
              "7"
            ]
          },
          "metadata": {},
          "execution_count": 32
        }
      ]
    },
    {
      "cell_type": "code",
      "source": [
        "# setup text vect\n",
        "max_vocab_length = 4000\n",
        "max_length = 15\n",
        "\n",
        "text_vectorization = TextVectorization(max_tokens=max_vocab_length,\n",
        "                                       standardize=\"lower_and_strip_punctuation\",\n",
        "                                       split=\"whitespace\",\n",
        "                                       ngrams=None,\n",
        "                                       output_mode='int',\n",
        "                                       output_sequence_length=max_length)"
      ],
      "metadata": {
        "id": "F3dXgpgxIbDC"
      },
      "execution_count": 33,
      "outputs": []
    },
    {
      "cell_type": "code",
      "source": [
        "# vektorisasi teks\n",
        "text_vectorization.adapt(train_sent)"
      ],
      "metadata": {
        "id": "F2ZuE1gWIcrE"
      },
      "execution_count": 34,
      "outputs": []
    },
    {
      "cell_type": "code",
      "source": [
        "# tweet baru\n",
        "sample_tweet = \"duh kenapa deh koneksi byu lemot banget\"\n",
        "text_vectorization([sample_tweet])"
      ],
      "metadata": {
        "colab": {
          "base_uri": "https://localhost:8080/"
        },
        "id": "k5t911LNIfBx",
        "outputId": "f63cb98b-6fea-44fb-9980-570330af5563"
      },
      "execution_count": 35,
      "outputs": [
        {
          "output_type": "execute_result",
          "data": {
            "text/plain": [
              "<tf.Tensor: shape=(1, 15), dtype=int64, numpy=\n",
              "array([[  1,   1,  85,  69,  14, 340,  18,   0,   0,   0,   0,   0,   0,\n",
              "          0,   0]])>"
            ]
          },
          "metadata": {},
          "execution_count": 35
        }
      ]
    },
    {
      "cell_type": "markdown",
      "source": [
        "# Embedding"
      ],
      "metadata": {
        "id": "2cFT8F86ItAJ"
      }
    },
    {
      "cell_type": "code",
      "source": [
        "from tensorflow.keras import layers\n",
        "\n",
        "embedding = layers.Embedding(input_dim=max_vocab_length,\n",
        "                             output_dim=128,\n",
        "                             embeddings_initializer=\"uniform\",\n",
        "                             input_length=max_length)\n",
        "\n",
        "embedding"
      ],
      "metadata": {
        "colab": {
          "base_uri": "https://localhost:8080/"
        },
        "id": "BmkQ9hSOIoEc",
        "outputId": "aa7fddae-8aac-4fb4-e1a8-9363fd66c863"
      },
      "execution_count": 36,
      "outputs": [
        {
          "output_type": "execute_result",
          "data": {
            "text/plain": [
              "<keras.layers.embeddings.Embedding at 0x7f6392e6a650>"
            ]
          },
          "metadata": {},
          "execution_count": 36
        }
      ]
    },
    {
      "cell_type": "code",
      "source": [
        "random_tweet = random.choice(train_sent)\n",
        "print(f\"Teks Asli : {random_tweet}\\n\")\n",
        "\n",
        "sample_embedded = embedding(text_vectorization([random_tweet]))\n",
        "sample_embedded.shape"
      ],
      "metadata": {
        "colab": {
          "base_uri": "https://localhost:8080/"
        },
        "id": "7X9cwu_jIukE",
        "outputId": "e249131c-c613-45ea-c8eb-f8b7bc1b9e28"
      },
      "execution_count": 37,
      "outputs": [
        {
          "output_type": "stream",
          "name": "stdout",
          "text": [
            "Teks Asli : transfer pulsa\n",
            "\n"
          ]
        },
        {
          "output_type": "execute_result",
          "data": {
            "text/plain": [
              "TensorShape([1, 15, 128])"
            ]
          },
          "metadata": {},
          "execution_count": 37
        }
      ]
    },
    {
      "cell_type": "markdown",
      "source": [
        "# Modeling"
      ],
      "metadata": {
        "id": "U5bM8GgmI1xz"
      }
    },
    {
      "cell_type": "code",
      "source": [
        "# fc NN\n",
        "\n",
        "inputs = layers.Input(shape=(1,), dtype=\"string\")\n",
        "x = text_vectorization(inputs)\n",
        "x = embedding(x)\n",
        "x = layers.GlobalAveragePooling1D()(x)\n",
        "outputs = layers.Dense(3, activation='softmax')(x)\n",
        "model_1 = tf.keras.Model(inputs, outputs, name='model_nlp_fc')"
      ],
      "metadata": {
        "id": "JYj5VAkLIxD1"
      },
      "execution_count": 38,
      "outputs": []
    },
    {
      "cell_type": "code",
      "source": [
        "# compile model\n",
        "model_1.compile(loss='categorical_crossentropy',\n",
        "                optimizer=tf.keras.optimizers.Adam(),\n",
        "                metrics=[\"accuracy\"])"
      ],
      "metadata": {
        "id": "HpsopQ7dI4xM"
      },
      "execution_count": 39,
      "outputs": []
    },
    {
      "cell_type": "code",
      "source": [
        "model_1.summary()"
      ],
      "metadata": {
        "colab": {
          "base_uri": "https://localhost:8080/"
        },
        "id": "UTqKriD7I7R8",
        "outputId": "84de0fb5-d85a-4bde-e767-d78f4127eab0"
      },
      "execution_count": 40,
      "outputs": [
        {
          "output_type": "stream",
          "name": "stdout",
          "text": [
            "Model: \"model_nlp_fc\"\n",
            "_________________________________________________________________\n",
            " Layer (type)                Output Shape              Param #   \n",
            "=================================================================\n",
            " input_1 (InputLayer)        [(None, 1)]               0         \n",
            "                                                                 \n",
            " text_vectorization (TextVec  (None, 15)               0         \n",
            " torization)                                                     \n",
            "                                                                 \n",
            " embedding (Embedding)       (None, 15, 128)           512000    \n",
            "                                                                 \n",
            " global_average_pooling1d (G  (None, 128)              0         \n",
            " lobalAveragePooling1D)                                          \n",
            "                                                                 \n",
            " dense (Dense)               (None, 3)                 387       \n",
            "                                                                 \n",
            "=================================================================\n",
            "Total params: 512,387\n",
            "Trainable params: 512,387\n",
            "Non-trainable params: 0\n",
            "_________________________________________________________________\n"
          ]
        }
      ]
    },
    {
      "cell_type": "code",
      "source": [
        "val_sent.shape"
      ],
      "metadata": {
        "colab": {
          "base_uri": "https://localhost:8080/"
        },
        "id": "8aVCXWA8Jw9T",
        "outputId": "219421a2-6c39-4b83-f199-75b9dbddc197"
      },
      "execution_count": 41,
      "outputs": [
        {
          "output_type": "execute_result",
          "data": {
            "text/plain": [
              "(353,)"
            ]
          },
          "metadata": {},
          "execution_count": 41
        }
      ]
    },
    {
      "cell_type": "code",
      "source": [
        "val_labels"
      ],
      "metadata": {
        "colab": {
          "base_uri": "https://localhost:8080/"
        },
        "id": "2MpoLmBMKCCO",
        "outputId": "ccefafdd-08b9-46af-faa6-7af59df75462"
      },
      "execution_count": 42,
      "outputs": [
        {
          "output_type": "execute_result",
          "data": {
            "text/plain": [
              "array([[1., 0., 0.],\n",
              "       [0., 0., 1.],\n",
              "       [0., 0., 1.],\n",
              "       ...,\n",
              "       [1., 0., 0.],\n",
              "       [0., 0., 1.],\n",
              "       [1., 0., 0.]], dtype=float32)"
            ]
          },
          "metadata": {},
          "execution_count": 42
        }
      ]
    },
    {
      "cell_type": "code",
      "source": [
        "model_1_hist = model_1.fit(train_sent,\n",
        "                           train_labels,\n",
        "                           epochs=25,\n",
        "                           validation_data=(val_sent, val_labels))"
      ],
      "metadata": {
        "colab": {
          "base_uri": "https://localhost:8080/"
        },
        "id": "p5O15h3VI8yX",
        "outputId": "819afc73-6007-4b0f-c152-085d7d91405c"
      },
      "execution_count": 43,
      "outputs": [
        {
          "output_type": "stream",
          "name": "stdout",
          "text": [
            "Epoch 1/25\n",
            "45/45 [==============================] - 1s 11ms/step - loss: 1.0057 - accuracy: 0.5748 - val_loss: 0.9408 - val_accuracy: 0.6034\n",
            "Epoch 2/25\n",
            "45/45 [==============================] - 0s 6ms/step - loss: 0.8670 - accuracy: 0.6038 - val_loss: 0.8471 - val_accuracy: 0.6799\n",
            "Epoch 3/25\n",
            "45/45 [==============================] - 0s 6ms/step - loss: 0.7525 - accuracy: 0.7789 - val_loss: 0.7607 - val_accuracy: 0.7535\n",
            "Epoch 4/25\n",
            "45/45 [==============================] - 0s 6ms/step - loss: 0.6475 - accuracy: 0.8320 - val_loss: 0.6950 - val_accuracy: 0.7620\n",
            "Epoch 5/25\n",
            "45/45 [==============================] - 0s 6ms/step - loss: 0.5652 - accuracy: 0.8427 - val_loss: 0.6513 - val_accuracy: 0.7564\n",
            "Epoch 6/25\n",
            "45/45 [==============================] - 0s 6ms/step - loss: 0.5005 - accuracy: 0.8590 - val_loss: 0.6203 - val_accuracy: 0.7649\n",
            "Epoch 7/25\n",
            "45/45 [==============================] - 0s 7ms/step - loss: 0.4473 - accuracy: 0.8731 - val_loss: 0.5966 - val_accuracy: 0.7705\n",
            "Epoch 8/25\n",
            "45/45 [==============================] - 0s 6ms/step - loss: 0.4035 - accuracy: 0.8809 - val_loss: 0.5778 - val_accuracy: 0.7705\n",
            "Epoch 9/25\n",
            "45/45 [==============================] - 0s 6ms/step - loss: 0.3635 - accuracy: 0.8965 - val_loss: 0.5625 - val_accuracy: 0.7875\n",
            "Epoch 10/25\n",
            "45/45 [==============================] - 0s 6ms/step - loss: 0.3293 - accuracy: 0.9036 - val_loss: 0.5499 - val_accuracy: 0.7875\n",
            "Epoch 11/25\n",
            "45/45 [==============================] - 0s 7ms/step - loss: 0.3002 - accuracy: 0.9107 - val_loss: 0.5387 - val_accuracy: 0.7875\n",
            "Epoch 12/25\n",
            "45/45 [==============================] - 0s 6ms/step - loss: 0.2730 - accuracy: 0.9157 - val_loss: 0.5298 - val_accuracy: 0.7819\n",
            "Epoch 13/25\n",
            "45/45 [==============================] - 0s 6ms/step - loss: 0.2506 - accuracy: 0.9291 - val_loss: 0.5229 - val_accuracy: 0.7819\n",
            "Epoch 14/25\n",
            "45/45 [==============================] - 0s 6ms/step - loss: 0.2286 - accuracy: 0.9341 - val_loss: 0.5174 - val_accuracy: 0.8045\n",
            "Epoch 15/25\n",
            "45/45 [==============================] - 0s 6ms/step - loss: 0.2108 - accuracy: 0.9426 - val_loss: 0.5155 - val_accuracy: 0.7875\n",
            "Epoch 16/25\n",
            "45/45 [==============================] - 0s 6ms/step - loss: 0.1946 - accuracy: 0.9483 - val_loss: 0.5126 - val_accuracy: 0.7960\n",
            "Epoch 17/25\n",
            "45/45 [==============================] - 0s 6ms/step - loss: 0.1796 - accuracy: 0.9497 - val_loss: 0.5105 - val_accuracy: 0.8045\n",
            "Epoch 18/25\n",
            "45/45 [==============================] - 0s 6ms/step - loss: 0.1669 - accuracy: 0.9575 - val_loss: 0.5112 - val_accuracy: 0.8045\n",
            "Epoch 19/25\n",
            "45/45 [==============================] - 0s 7ms/step - loss: 0.1549 - accuracy: 0.9603 - val_loss: 0.5116 - val_accuracy: 0.7989\n",
            "Epoch 20/25\n",
            "45/45 [==============================] - 0s 6ms/step - loss: 0.1445 - accuracy: 0.9646 - val_loss: 0.5107 - val_accuracy: 0.8102\n",
            "Epoch 21/25\n",
            "45/45 [==============================] - 0s 6ms/step - loss: 0.1346 - accuracy: 0.9667 - val_loss: 0.5160 - val_accuracy: 0.8045\n",
            "Epoch 22/25\n",
            "45/45 [==============================] - 0s 6ms/step - loss: 0.1283 - accuracy: 0.9674 - val_loss: 0.5158 - val_accuracy: 0.8074\n",
            "Epoch 23/25\n",
            "45/45 [==============================] - 0s 6ms/step - loss: 0.1184 - accuracy: 0.9717 - val_loss: 0.5148 - val_accuracy: 0.8215\n",
            "Epoch 24/25\n",
            "45/45 [==============================] - 0s 6ms/step - loss: 0.1114 - accuracy: 0.9738 - val_loss: 0.5171 - val_accuracy: 0.8187\n",
            "Epoch 25/25\n",
            "45/45 [==============================] - 0s 6ms/step - loss: 0.1044 - accuracy: 0.9773 - val_loss: 0.5208 - val_accuracy: 0.8159\n"
          ]
        }
      ]
    },
    {
      "cell_type": "code",
      "source": [
        "# Create plot of history model\n",
        "import matplotlib.pyplot as plt\n",
        "\n",
        "\n",
        "pd.DataFrame(model_1_hist.history).plot(figsize=(8, 5))\n",
        "plt.title('Evaluate model base', fontsize=13)\n",
        "plt.gca().set_ylim(0, 1)\n",
        "plt.show()"
      ],
      "metadata": {
        "colab": {
          "base_uri": "https://localhost:8080/",
          "height": 336
        },
        "id": "lccouTnIJqXK",
        "outputId": "88cbb8cb-990e-4250-fbb4-324d2e096fee"
      },
      "execution_count": 45,
      "outputs": [
        {
          "output_type": "display_data",
          "data": {
            "image/png": "[encoded data removed]",
            "text/plain": [
              "<Figure size 576x360 with 1 Axes>"
            ]
          },
          "metadata": {
            "needs_background": "light"
          }
        }
      ]
    },
    {
      "cell_type": "code",
      "source": [
        "model_1.evaluate(val_sent, val_labels)"
      ],
      "metadata": {
        "colab": {
          "base_uri": "https://localhost:8080/"
        },
        "id": "M3OaCmKxLPvX",
        "outputId": "a7d67760-d9a7-4692-ee0d-35c591d0f58f"
      },
      "execution_count": 46,
      "outputs": [
        {
          "output_type": "stream",
          "name": "stdout",
          "text": [
            "12/12 [==============================] - 0s 2ms/step - loss: 0.5208 - accuracy: 0.8159\n"
          ]
        },
        {
          "output_type": "execute_result",
          "data": {
            "text/plain": [
              "[0.5207992196083069, 0.8158640265464783]"
            ]
          },
          "metadata": {},
          "execution_count": 46
        }
      ]
    },
    {
      "cell_type": "markdown",
      "source": [
        "# LSTM"
      ],
      "metadata": {
        "id": "xTSdykGJLZDe"
      }
    },
    {
      "cell_type": "code",
      "source": [
        "inputs = layers.Input(shape=(1,), dtype='string')\n",
        "x = text_vectorization(inputs)\n",
        "x = embedding(x)\n",
        "x = layers.LSTM(128)(x)\n",
        "outputs = layers.Dense(3, activation='softmax')(x)\n",
        "model_2 = tf.keras.Model(inputs, outputs, name=\"LSTM_model\")"
      ],
      "metadata": {
        "id": "U6q14sR2I_-c"
      },
      "execution_count": 60,
      "outputs": []
    },
    {
      "cell_type": "code",
      "source": [
        "model_2.summary()"
      ],
      "metadata": {
        "colab": {
          "base_uri": "https://localhost:8080/"
        },
        "id": "XGfVySYOLclm",
        "outputId": "f7c2975e-9f91-4bd3-ec1a-e17217f6c0f7"
      },
      "execution_count": 61,
      "outputs": [
        {
          "output_type": "stream",
          "name": "stdout",
          "text": [
            "Model: \"LSTM_model\"\n",
            "_________________________________________________________________\n",
            " Layer (type)                Output Shape              Param #   \n",
            "=================================================================\n",
            " input_4 (InputLayer)        [(None, 1)]               0         \n",
            "                                                                 \n",
            " text_vectorization (TextVec  (None, 15)               0         \n",
            " torization)                                                     \n",
            "                                                                 \n",
            " embedding (Embedding)       (None, 15, 128)           512000    \n",
            "                                                                 \n",
            " lstm_1 (LSTM)               (None, 128)               131584    \n",
            "                                                                 \n",
            " dense_3 (Dense)             (None, 3)                 387       \n",
            "                                                                 \n",
            "=================================================================\n",
            "Total params: 643,971\n",
            "Trainable params: 643,971\n",
            "Non-trainable params: 0\n",
            "_________________________________________________________________\n"
          ]
        }
      ]
    },
    {
      "cell_type": "code",
      "source": [
        "# compile model\n",
        "model_2.compile(loss='categorical_crossentropy',\n",
        "                optimizer=tf.keras.optimizers.Adam(),\n",
        "                metrics=[\"accuracy\"])"
      ],
      "metadata": {
        "id": "GHaTgDxMLezf"
      },
      "execution_count": 62,
      "outputs": []
    },
    {
      "cell_type": "code",
      "source": [
        "model_2_hist = model_2.fit(train_sent,\n",
        "                           train_labels,\n",
        "                           epochs=15,\n",
        "                           validation_data=(val_sent, val_labels))"
      ],
      "metadata": {
        "colab": {
          "base_uri": "https://localhost:8080/"
        },
        "id": "ysC2_5T6Lh0r",
        "outputId": "4bd4eb3e-a26b-4738-9148-d1283c2c0c60"
      },
      "execution_count": 63,
      "outputs": [
        {
          "output_type": "stream",
          "name": "stdout",
          "text": [
            "Epoch 1/15\n",
            "45/45 [==============================] - 4s 38ms/step - loss: 0.2414 - accuracy: 0.9291 - val_loss: 1.0135 - val_accuracy: 0.8329\n",
            "Epoch 2/15\n",
            "45/45 [==============================] - 1s 25ms/step - loss: 0.0321 - accuracy: 0.9922 - val_loss: 1.1952 - val_accuracy: 0.8074\n",
            "Epoch 3/15\n",
            "45/45 [==============================] - 1s 27ms/step - loss: 0.0228 - accuracy: 0.9950 - val_loss: 1.0797 - val_accuracy: 0.8215\n",
            "Epoch 4/15\n",
            "45/45 [==============================] - 1s 26ms/step - loss: 0.0252 - accuracy: 0.9936 - val_loss: 0.9539 - val_accuracy: 0.8102\n",
            "Epoch 5/15\n",
            "45/45 [==============================] - 1s 25ms/step - loss: 0.0205 - accuracy: 0.9929 - val_loss: 0.7687 - val_accuracy: 0.8357\n",
            "Epoch 6/15\n",
            "45/45 [==============================] - 1s 27ms/step - loss: 0.0200 - accuracy: 0.9936 - val_loss: 1.0310 - val_accuracy: 0.8130\n",
            "Epoch 7/15\n",
            "45/45 [==============================] - 1s 27ms/step - loss: 0.0152 - accuracy: 0.9950 - val_loss: 0.9741 - val_accuracy: 0.8215\n",
            "Epoch 8/15\n",
            "45/45 [==============================] - 1s 25ms/step - loss: 0.0132 - accuracy: 0.9950 - val_loss: 1.0006 - val_accuracy: 0.8215\n",
            "Epoch 9/15\n",
            "45/45 [==============================] - 1s 26ms/step - loss: 0.0133 - accuracy: 0.9957 - val_loss: 1.0193 - val_accuracy: 0.8215\n",
            "Epoch 10/15\n",
            "45/45 [==============================] - 1s 25ms/step - loss: 0.0105 - accuracy: 0.9957 - val_loss: 1.0846 - val_accuracy: 0.8159\n",
            "Epoch 11/15\n",
            "45/45 [==============================] - 1s 25ms/step - loss: 0.0128 - accuracy: 0.9957 - val_loss: 0.9752 - val_accuracy: 0.8215\n",
            "Epoch 12/15\n",
            "45/45 [==============================] - 1s 25ms/step - loss: 0.0102 - accuracy: 0.9950 - val_loss: 1.0006 - val_accuracy: 0.8187\n",
            "Epoch 13/15\n",
            "45/45 [==============================] - 1s 25ms/step - loss: 0.0202 - accuracy: 0.9922 - val_loss: 1.3502 - val_accuracy: 0.8130\n",
            "Epoch 14/15\n",
            "45/45 [==============================] - 1s 26ms/step - loss: 0.0110 - accuracy: 0.9957 - val_loss: 1.0927 - val_accuracy: 0.8215\n",
            "Epoch 15/15\n",
            "45/45 [==============================] - 1s 26ms/step - loss: 0.0092 - accuracy: 0.9972 - val_loss: 1.2835 - val_accuracy: 0.8102\n"
          ]
        }
      ]
    },
    {
      "cell_type": "code",
      "source": [
        "# Create plot of history model\n",
        "import matplotlib.pyplot as plt\n",
        "\n",
        "\n",
        "pd.DataFrame(model_2_hist.history).plot(figsize=(8, 5))\n",
        "plt.title('Evaluate model LSTM', fontsize=13)\n",
        "plt.gca().set_ylim(0, 1)\n",
        "plt.show()"
      ],
      "metadata": {
        "colab": {
          "base_uri": "https://localhost:8080/",
          "height": 336
        },
        "id": "-50_17DCKIXn",
        "outputId": "5356509f-fbf9-43dd-e212-b3d456482a12"
      },
      "execution_count": 64,
      "outputs": [
        {
          "output_type": "display_data",
          "data": {
            "image/png": "[encoded data removed]",
            "text/plain": [
              "<Figure size 576x360 with 1 Axes>"
            ]
          },
          "metadata": {
            "needs_background": "light"
          }
        }
      ]
    },
    {
      "cell_type": "markdown",
      "source": [
        "# GRU"
      ],
      "metadata": {
        "id": "BgDYvlhmLsHn"
      }
    },
    {
      "cell_type": "code",
      "source": [
        "inputs = layers.Input(shape=(1,), dtype='string')\n",
        "x = text_vectorization(inputs)\n",
        "x = embedding(x)\n",
        "x = layers.GRU(64)(x)\n",
        "outputs = layers.Dense(3, activation='softmax')(x)\n",
        "model_3 = tf.keras.Model(inputs, outputs, name=\"GRU_model\")"
      ],
      "metadata": {
        "id": "h1cOO_RlLjue"
      },
      "execution_count": 54,
      "outputs": []
    },
    {
      "cell_type": "code",
      "source": [
        "# compile model\n",
        "model_3.compile(loss='categorical_crossentropy',\n",
        "                optimizer=tf.keras.optimizers.Adam(),\n",
        "                metrics=[\"accuracy\"])"
      ],
      "metadata": {
        "id": "g33Xiv7-Lu5E"
      },
      "execution_count": 55,
      "outputs": []
    },
    {
      "cell_type": "code",
      "source": [
        "model_3.summary()"
      ],
      "metadata": {
        "colab": {
          "base_uri": "https://localhost:8080/"
        },
        "id": "eyWl5jg_LwiH",
        "outputId": "cb246a8a-e8d4-4de2-e839-eb5e52f339f6"
      },
      "execution_count": 56,
      "outputs": [
        {
          "output_type": "stream",
          "name": "stdout",
          "text": [
            "Model: \"GRU_model\"\n",
            "_________________________________________________________________\n",
            " Layer (type)                Output Shape              Param #   \n",
            "=================================================================\n",
            " input_3 (InputLayer)        [(None, 1)]               0         \n",
            "                                                                 \n",
            " text_vectorization (TextVec  (None, 15)               0         \n",
            " torization)                                                     \n",
            "                                                                 \n",
            " embedding (Embedding)       (None, 15, 128)           512000    \n",
            "                                                                 \n",
            " gru (GRU)                   (None, 64)                37248     \n",
            "                                                                 \n",
            " dense_2 (Dense)             (None, 3)                 195       \n",
            "                                                                 \n",
            "=================================================================\n",
            "Total params: 549,443\n",
            "Trainable params: 549,443\n",
            "Non-trainable params: 0\n",
            "_________________________________________________________________\n"
          ]
        }
      ]
    },
    {
      "cell_type": "code",
      "source": [
        "model_3_hist = model_3.fit(train_sent,\n",
        "                           train_labels,\n",
        "                           epochs=15,\n",
        "                           validation_data=(val_sent, val_labels))"
      ],
      "metadata": {
        "colab": {
          "base_uri": "https://localhost:8080/"
        },
        "id": "LAKStVhnLyvY",
        "outputId": "887ed79b-680a-40b7-e901-57b05a637e0c"
      },
      "execution_count": 57,
      "outputs": [
        {
          "output_type": "stream",
          "name": "stdout",
          "text": [
            "Epoch 1/15\n",
            "45/45 [==============================] - 3s 28ms/step - loss: 0.6826 - accuracy: 0.7023 - val_loss: 0.9434 - val_accuracy: 0.7677\n",
            "Epoch 2/15\n",
            "45/45 [==============================] - 1s 15ms/step - loss: 0.1677 - accuracy: 0.9305 - val_loss: 0.6597 - val_accuracy: 0.7960\n",
            "Epoch 3/15\n",
            "45/45 [==============================] - 1s 16ms/step - loss: 0.0463 - accuracy: 0.9865 - val_loss: 1.1278 - val_accuracy: 0.8074\n",
            "Epoch 4/15\n",
            "45/45 [==============================] - 1s 16ms/step - loss: 0.0337 - accuracy: 0.9894 - val_loss: 1.0269 - val_accuracy: 0.8187\n",
            "Epoch 5/15\n",
            "45/45 [==============================] - 1s 15ms/step - loss: 0.0220 - accuracy: 0.9929 - val_loss: 1.2388 - val_accuracy: 0.8045\n",
            "Epoch 6/15\n",
            "45/45 [==============================] - 1s 16ms/step - loss: 0.0278 - accuracy: 0.9922 - val_loss: 0.9904 - val_accuracy: 0.8130\n",
            "Epoch 7/15\n",
            "45/45 [==============================] - 1s 16ms/step - loss: 0.0154 - accuracy: 0.9936 - val_loss: 0.9266 - val_accuracy: 0.8215\n",
            "Epoch 8/15\n",
            "45/45 [==============================] - 1s 15ms/step - loss: 0.0131 - accuracy: 0.9943 - val_loss: 1.0317 - val_accuracy: 0.8215\n",
            "Epoch 9/15\n",
            "45/45 [==============================] - 1s 16ms/step - loss: 0.0143 - accuracy: 0.9950 - val_loss: 1.0710 - val_accuracy: 0.8159\n",
            "Epoch 10/15\n",
            "45/45 [==============================] - 1s 16ms/step - loss: 0.0227 - accuracy: 0.9915 - val_loss: 0.8419 - val_accuracy: 0.8244\n",
            "Epoch 11/15\n",
            "45/45 [==============================] - 1s 16ms/step - loss: 0.0139 - accuracy: 0.9950 - val_loss: 0.9564 - val_accuracy: 0.8159\n",
            "Epoch 12/15\n",
            "45/45 [==============================] - 1s 17ms/step - loss: 0.0129 - accuracy: 0.9950 - val_loss: 0.9057 - val_accuracy: 0.8187\n",
            "Epoch 13/15\n",
            "45/45 [==============================] - 1s 16ms/step - loss: 0.0172 - accuracy: 0.9950 - val_loss: 0.8977 - val_accuracy: 0.8329\n",
            "Epoch 14/15\n",
            "45/45 [==============================] - 1s 17ms/step - loss: 0.0157 - accuracy: 0.9936 - val_loss: 0.8926 - val_accuracy: 0.8215\n",
            "Epoch 15/15\n",
            "45/45 [==============================] - 1s 16ms/step - loss: 0.0124 - accuracy: 0.9957 - val_loss: 1.0949 - val_accuracy: 0.8130\n"
          ]
        }
      ]
    },
    {
      "cell_type": "code",
      "source": [
        "# Create plot of history model\n",
        "import matplotlib.pyplot as plt\n",
        "\n",
        "\n",
        "pd.DataFrame(model_3_hist.history).plot(figsize=(8, 5))\n",
        "plt.title('Evaluate model GRU', fontsize=13)\n",
        "plt.gca().set_ylim(0, 1)\n",
        "plt.show()"
      ],
      "metadata": {
        "colab": {
          "base_uri": "https://localhost:8080/",
          "height": 336
        },
        "id": "74ToaLcRK3Ty",
        "outputId": "5c313f72-5c25-41f4-d9fa-9f31220df77a"
      },
      "execution_count": 58,
      "outputs": [
        {
          "output_type": "display_data",
          "data": {
            "image/png": "[encoded data removed]",
            "text/plain": [
              "<Figure size 576x360 with 1 Axes>"
            ]
          },
          "metadata": {
            "needs_background": "light"
          }
        }
      ]
    },
    {
      "cell_type": "code",
      "source": [
        "# inference new data\n",
        "\n",
        "tweet_baru = [\n",
        "            \"anjirr lemot banget\",\n",
        "            \"kenapa maintenance nya harus malem tahun baru sih, kesel deh\",\n",
        "            \"wahh terima kasih byu udah dikasih kado kuota, jadi suka deh\",\n",
        "            \"mohon maaf byu ini kenapa ya\",\n",
        "            \"mohon dibenarkan aplikasinya, saya komplain gak dibalas di dm\",\n",
        "            \"lemot banget, niat bikin provider gaksi\"\n",
        "]\n",
        "\n",
        "hasil = model_3.predict(tweet_baru)\n",
        "hasil.argmax(axis=1)"
      ],
      "metadata": {
        "colab": {
          "base_uri": "https://localhost:8080/"
        },
        "id": "cD1nR_AnL0_k",
        "outputId": "7abd0fc9-7c82-4c92-e81b-94a4eaafe824"
      },
      "execution_count": 59,
      "outputs": [
        {
          "output_type": "execute_result",
          "data": {
            "text/plain": [
              "array([2, 2, 1, 0, 2, 2])"
            ]
          },
          "metadata": {},
          "execution_count": 59
        }
      ]
    },
    {
      "cell_type": "code",
      "source": [
        ""
      ],
      "metadata": {
        "id": "RNFeU2NTw_oP"
      },
      "execution_count": null,
      "outputs": []
    }
  ]
}